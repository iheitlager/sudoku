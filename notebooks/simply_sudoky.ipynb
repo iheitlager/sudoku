{
 "cells": [
  {
   "cell_type": "markdown",
   "metadata": {},
   "source": [
    "This notebook provides a simple sudoku solver. Let's start with a simple 4 (\\*\\*\\*\\*) star sudoku"
   ]
  },
  {
   "cell_type": "code",
   "execution_count": 1,
   "metadata": {},
   "outputs": [],
   "source": [
    "# Parool Dinsdag 19 sept ****\n",
    "sudoku_grid = [\n",
    "    [0, 6, 0, 0, 0, 0, 1, 9, 0],\n",
    "    [0, 0, 2, 6, 1, 0, 0, 0, 4],\n",
    "    [7, 0, 1, 0, 0, 0, 0, 0, 0],\n",
    "    [0, 0, 0, 0, 7, 0, 0, 1, 0],\n",
    "    [0, 0, 6, 0, 8, 3, 0, 0, 0],\n",
    "    [5, 4, 0, 0, 6, 0, 0, 0, 3],\n",
    "    [0, 8, 0, 0, 2, 7, 0, 3, 9],\n",
    "    [0, 0, 0, 4, 0, 0, 0, 7, 8],\n",
    "    [0, 0, 0, 0, 0, 0, 4, 0, 0]\n",
    "]"
   ]
  },
  {
   "cell_type": "markdown",
   "metadata": {},
   "source": [
    "And let's add a simple pretty printer. "
   ]
  },
  {
   "cell_type": "code",
   "execution_count": 2,
   "metadata": {},
   "outputs": [
    {
     "name": "stdout",
     "output_type": "stream",
     "text": [
      "0 6 0 | 0 0 0 | 1 9 0 \n",
      "0 0 2 | 6 1 0 | 0 0 4 \n",
      "7 0 1 | 0 0 0 | 0 0 0 \n",
      "------+-------+------\n",
      "0 0 0 | 0 7 0 | 0 1 0 \n",
      "0 0 6 | 0 8 3 | 0 0 0 \n",
      "5 4 0 | 0 6 0 | 0 0 3 \n",
      "------+-------+------\n",
      "0 8 0 | 0 2 7 | 0 3 9 \n",
      "0 0 0 | 4 0 0 | 0 7 8 \n",
      "0 0 0 | 0 0 0 | 4 0 0 \n"
     ]
    }
   ],
   "source": [
    "def display_grid(grid):\n",
    "    '''Display the grid'''\n",
    "    for i in range(9):\n",
    "        if i in [3, 6]:\n",
    "            print ('------+-------+------')\n",
    "        l = \"\"\n",
    "        for j in range(9):\n",
    "            l += str(grid[i][j])\n",
    "            l += \" | \" if j in [2, 5] else \" \"\n",
    "        print(l)\n",
    "\n",
    "display_grid(sudoku_grid)"
   ]
  },
  {
   "cell_type": "markdown",
   "metadata": {},
   "source": [
    "We are going to build a recursive solver, so the first thing to check is to see if we are complete"
   ]
  },
  {
   "cell_type": "code",
   "execution_count": 3,
   "metadata": {},
   "outputs": [
    {
     "data": {
      "text/plain": [
       "False"
      ]
     },
     "execution_count": 3,
     "metadata": {},
     "output_type": "execute_result"
    }
   ],
   "source": [
    "def is_complete(grid):\n",
    "    for row in range(9):\n",
    "        for col in range(9):\n",
    "            if grid[row][col] == 0:\n",
    "                return False\n",
    "    return True\n",
    "\n",
    "is_complete(sudoku_grid)"
   ]
  },
  {
   "cell_type": "markdown",
   "metadata": {},
   "source": [
    "In this instance, we are not complete. Now lets add a function that checks the first candidate cell to solve"
   ]
  },
  {
   "cell_type": "code",
   "execution_count": 4,
   "metadata": {},
   "outputs": [
    {
     "data": {
      "text/plain": [
       "(0, 0)"
      ]
     },
     "execution_count": 4,
     "metadata": {},
     "output_type": "execute_result"
    }
   ],
   "source": [
    "def find_empty_cell(grid):\n",
    "    for row in range(9):\n",
    "        for col in range(9):\n",
    "            if grid[row][col] == 0:\n",
    "                return row, col\n",
    "    return None, None\n",
    "\n",
    "find_empty_cell(sudoku_grid)"
   ]
  },
  {
   "cell_type": "markdown",
   "metadata": {},
   "source": [
    "Wonderful, the grid is not complete and we have found the first cell to solve. In backtracking we can basically check if we can fill in a value, such that all constraints are met. So, we need a way to check valid entries in three constraints: row, column and subcell."
   ]
  },
  {
   "cell_type": "code",
   "execution_count": 5,
   "metadata": {},
   "outputs": [
    {
     "data": {
      "text/plain": [
       "False"
      ]
     },
     "execution_count": 5,
     "metadata": {},
     "output_type": "execute_result"
    }
   ],
   "source": [
    "def is_valid(grid, row, col, num):\n",
    "    for i in range(9):\n",
    "        if grid[row][i] == num or grid[i][col] == num:\n",
    "            return False\n",
    "\n",
    "    start_row = (row // 3) * 3\n",
    "    start_col = (col // 3) * 3\n",
    "    for i in range(start_row, start_row + 3):\n",
    "        for j in range(start_col, start_col + 3):\n",
    "            if grid[i][j] == num:\n",
    "                return False\n",
    "\n",
    "    return True\n",
    "\n",
    "row, col = find_empty_cell(sudoku_grid)\n",
    "is_valid(sudoku_grid, row, col, 1)"
   ]
  },
  {
   "cell_type": "markdown",
   "metadata": {},
   "source": [
    "We cannot fill in 1, since that value is already available on the grid. So, lets build a loop to test the next value."
   ]
  },
  {
   "cell_type": "code",
   "execution_count": 6,
   "metadata": {},
   "outputs": [
    {
     "name": "stdout",
     "output_type": "stream",
     "text": [
      "0 0 3\n"
     ]
    }
   ],
   "source": [
    "row, col = find_empty_cell(sudoku_grid)\n",
    "for num in range(1, 10):\n",
    "    if is_valid(sudoku_grid, row, col, num):\n",
    "        break\n",
    "\n",
    "print(row, col, num)"
   ]
  },
  {
   "cell_type": "markdown",
   "metadata": {},
   "source": [
    "This mechanism can be repeated: we fill in the next valid value and recursively call the function again"
   ]
  },
  {
   "cell_type": "code",
   "execution_count": 7,
   "metadata": {},
   "outputs": [
    {
     "name": "stdout",
     "output_type": "stream",
     "text": [
      "4 6 8 | 7 3 5 | 1 9 2 \n",
      "3 5 2 | 6 1 9 | 7 8 4 \n",
      "7 9 1 | 8 4 2 | 3 5 6 \n",
      "------+-------+------\n",
      "8 3 9 | 2 7 4 | 6 1 5 \n",
      "1 2 6 | 5 8 3 | 9 4 7 \n",
      "5 4 7 | 9 6 1 | 8 2 3 \n",
      "------+-------+------\n",
      "6 8 4 | 1 2 7 | 5 3 9 \n",
      "9 1 3 | 4 5 6 | 2 7 8 \n",
      "2 7 5 | 3 9 8 | 4 6 1 \n"
     ]
    }
   ],
   "source": [
    "def solve_sudoku(grid):\n",
    "    if is_complete(grid):\n",
    "        return True\n",
    "\n",
    "    row, col = find_empty_cell(grid)\n",
    "    for num in range(1, 10):\n",
    "        if is_valid(grid, row, col, num):\n",
    "            grid[row][col] = num\n",
    "\n",
    "            if solve_sudoku(grid):\n",
    "                return True\n",
    "\n",
    "            grid[row][col] = 0\n",
    "\n",
    "    return False\n",
    "\n",
    "solve_sudoku(sudoku_grid)\n",
    "display_grid(sudoku_grid)"
   ]
  },
  {
   "cell_type": "markdown",
   "metadata": {},
   "source": [
    "That is is. We solved the puzzle by recursion"
   ]
  }
 ],
 "metadata": {
  "kernelspec": {
   "display_name": "Python 3",
   "language": "python",
   "name": "python3"
  },
  "language_info": {
   "codemirror_mode": {
    "name": "ipython",
    "version": 3
   },
   "file_extension": ".py",
   "mimetype": "text/x-python",
   "name": "python",
   "nbconvert_exporter": "python",
   "pygments_lexer": "ipython3",
   "version": "3.11.5"
  },
  "orig_nbformat": 4
 },
 "nbformat": 4,
 "nbformat_minor": 2
}
