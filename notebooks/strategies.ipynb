{
 "cells": [
  {
   "cell_type": "markdown",
   "metadata": {},
   "source": [
    "Trying to solve a few puzzles"
   ]
  },
  {
   "cell_type": "code",
   "execution_count": 1,
   "metadata": {},
   "outputs": [
    {
     "data": {
      "text/plain": [
       "8"
      ]
     },
     "execution_count": 1,
     "metadata": {},
     "output_type": "execute_result"
    }
   ],
   "source": [
    "import sudoku\n",
    "from sudoku import puzzles\n",
    "from sudoku.reader import get_matrix\n",
    "from sudoku.printer import display_grid\n",
    "\n",
    "import copy\n",
    "\n",
    "p = '''000000000\n",
    "000000000\n",
    "000050000\n",
    "000000000\n",
    "050000000\n",
    "000000500\n",
    "000000000\n",
    "000500000\n",
    "000000000'''\n",
    "\n",
    "p='''.........\n",
    "..4.6.8..\n",
    "39.874.1.\n",
    "8..2.6..3\n",
    "1.......2\n",
    "..3...4..\n",
    "9..438..7\n",
    ".3.795.6.\n",
    "..76..3..'''\n",
    "\n",
    "grid = p #get_matrix(puzzles.cases1[1][1])\n",
    "sudoku.n_nonzero(grid)\n"
   ]
  },
  {
   "cell_type": "code",
   "execution_count": 2,
   "metadata": {},
   "outputs": [
    {
     "name": "stdout",
     "output_type": "stream",
     "text": [
      ".........\n",
      ".........\n",
      ".........\n",
      "12345678.\n",
      ".........\n",
      ".........\n",
      ".........\n",
      ".........\n",
      ".........\n"
     ]
    }
   ],
   "source": [
    "from sudoku.printer import display_file\n",
    "\n",
    "display_file(grid)"
   ]
  },
  {
   "cell_type": "code",
   "execution_count": 8,
   "metadata": {},
   "outputs": [
    {
     "name": "stdout",
     "output_type": "stream",
     "text": [
      "474\n",
      "            |             |            \n",
      ".23 1.3 12. | 123 123 123 | 123 123 123 \n",
      "456 456 456 | .56 4.6 45. | 456 456 456 \n",
      "789 789 789 | 789 789 789 | .89 7.9 789 \n",
      "            |             |            \n",
      ".23 1.3 12. | 123 123 123 | 123 123 123 \n",
      "456 456 456 | .56 4.6 45. | 456 456 456 \n",
      "789 789 789 | 789 789 789 | .89 7.9 789 \n",
      "            |             |            \n",
      ".23 1.3 12. | 123 123 123 | 123 123 123 \n",
      "456 456 456 | .56 4.6 45. | 456 456 456 \n",
      "789 789 789 | 789 789 789 | .89 7.9 789 \n",
      "------------+-------------+------------\n",
      "1.. .2. ..3 | ... ... ... | ... ... ... \n",
      "... ... ... | 4.. .5. ..6 | ... ... ... \n",
      "... ... ... | ... ... ... | 7.. .8. ..9 \n",
      "            |             |            \n",
      "... ... ... | 123 123 123 | 123 123 123 \n",
      "456 456 456 | ... ... ... | 456 456 456 \n",
      "789 789 789 | 789 789 789 | ... ... ... \n",
      "            |             |            \n",
      "... ... ... | 123 123 123 | 123 123 123 \n",
      "456 456 456 | ... ... ... | 456 456 456 \n",
      "789 789 789 | 789 789 789 | ... ... ... \n",
      "------------+-------------+------------\n",
      ".23 1.3 12. | 123 123 123 | 123 123 123 \n",
      "456 456 456 | .56 4.6 45. | 456 456 456 \n",
      "789 789 789 | 789 789 789 | .89 7.9 789 \n",
      "            |             |            \n",
      ".23 1.3 12. | 123 123 123 | 123 123 123 \n",
      "456 456 456 | .56 4.6 45. | 456 456 456 \n",
      "789 789 789 | 789 789 789 | .89 7.9 789 \n",
      "            |             |            \n",
      ".23 1.3 12. | 123 123 123 | 123 123 123 \n",
      "456 456 456 | .56 4.6 45. | 456 456 456 \n",
      "789 789 789 | 789 789 789 | .89 7.9 789 \n",
      "            |             |            \n",
      "468\n",
      "            |             |            \n",
      ".23 1.3 12. | 123 123 123 | 123 123 123 \n",
      "456 456 456 | .56 4.6 45. | 456 456 456 \n",
      "789 789 789 | 789 789 789 | .89 7.9 78. \n",
      "            |             |            \n",
      ".23 1.3 12. | 123 123 123 | 123 123 123 \n",
      "456 456 456 | .56 4.6 45. | 456 456 456 \n",
      "789 789 789 | 789 789 789 | .89 7.9 78. \n",
      "            |             |            \n",
      ".23 1.3 12. | 123 123 123 | 123 123 123 \n",
      "456 456 456 | .56 4.6 45. | 456 456 456 \n",
      "789 789 789 | 789 789 789 | .89 7.9 78. \n",
      "------------+-------------+------------\n",
      "1.. .2. ..3 | ... ... ... | ... ... ... \n",
      "... ... ... | 4.. .5. ..6 | ... ... ... \n",
      "... ... ... | ... ... ... | 7.. .8. ..9 \n",
      "            |             |            \n",
      "... ... ... | 123 123 123 | 123 123 123 \n",
      "456 456 456 | ... ... ... | 456 456 456 \n",
      "789 789 789 | 789 789 789 | ... ... ... \n",
      "            |             |            \n",
      "... ... ... | 123 123 123 | 123 123 123 \n",
      "456 456 456 | ... ... ... | 456 456 456 \n",
      "789 789 789 | 789 789 789 | ... ... ... \n",
      "------------+-------------+------------\n",
      ".23 1.3 12. | 123 123 123 | 123 123 123 \n",
      "456 456 456 | .56 4.6 45. | 456 456 456 \n",
      "789 789 789 | 789 789 789 | .89 7.9 78. \n",
      "            |             |            \n",
      ".23 1.3 12. | 123 123 123 | 123 123 123 \n",
      "456 456 456 | .56 4.6 45. | 456 456 456 \n",
      "789 789 789 | 789 789 789 | .89 7.9 78. \n",
      "            |             |            \n",
      ".23 1.3 12. | 123 123 123 | 123 123 123 \n",
      "456 456 456 | .56 4.6 45. | 456 456 456 \n",
      "789 789 789 | 789 789 789 | .89 7.9 78. \n",
      "            |             |            \n"
     ]
    }
   ],
   "source": [
    "from sudoku.solvers import heuristic\n",
    "from sudoku.printer import display_supergrid\n",
    "\n",
    "problem = copy.deepcopy(grid)\n",
    "problem = heuristic.pencil_in_numbers(problem)\n",
    "\n",
    "heuristic.simple_elimination(problem)\n",
    "print(sudoku.n_to_remove(problem))\n",
    "# heuristic.hidden_single(problem)\n",
    "display_supergrid(problem)\n",
    "heuristic.simple_elimination(problem)\n",
    "print(sudoku.n_to_remove(problem))\n",
    "# heuristic.hidden_single(problem)\n",
    "display_supergrid(problem)\n",
    "# print(sudoku.grid_score(problem))\n",
    "# print(sudoku.n_nonzero(problem))\n",
    "# heuristic.simple_elimination(problem)\n",
    "# print(sudoku.grid_score(problem))\n",
    "# print(sudoku.n_nonzero(problem))\n",
    "# heuristic.hidden_single(problem)\n",
    "# display_file(problem)\n",
    "# print(sudoku.grid_score(problem))\n",
    "# print(sudoku.n_nonzero(problem))\n",
    "# heuristic.backtrack(problem)\n",
    "# print(sudoku.grid_score(problem))\n",
    "# print(sudoku.n_nonzero(problem))\n",
    "\n",
    "\n",
    "# display_grid(problem)\n"
   ]
  },
  {
   "cell_type": "code",
   "execution_count": 6,
   "metadata": {},
   "outputs": [
    {
     "name": "stdout",
     "output_type": "stream",
     "text": [
      ".........\n",
      ".........\n",
      ".........\n",
      "123456789\n",
      ".........\n",
      ".........\n",
      ".........\n",
      ".........\n",
      ".........\n",
      "\n",
      ".........\n",
      ".........\n",
      ".........\n",
      "123456789\n",
      ".........\n",
      ".........\n",
      ".........\n",
      ".........\n",
      ".........\n"
     ]
    }
   ],
   "source": [
    "display_file(problem)\n",
    "print(\"\")\n",
    "sudoku.flatten(problem)\n",
    "display_file(problem)"
   ]
  }
 ],
 "metadata": {
  "kernelspec": {
   "display_name": "Python 3",
   "language": "python",
   "name": "python3"
  },
  "language_info": {
   "codemirror_mode": {
    "name": "ipython",
    "version": 3
   },
   "file_extension": ".py",
   "mimetype": "text/x-python",
   "name": "python",
   "nbconvert_exporter": "python",
   "pygments_lexer": "ipython3",
   "version": "3.11.6"
  },
  "orig_nbformat": 4
 },
 "nbformat": 4,
 "nbformat_minor": 2
}
