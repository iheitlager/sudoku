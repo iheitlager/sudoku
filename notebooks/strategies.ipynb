{
 "cells": [
  {
   "cell_type": "markdown",
   "metadata": {},
   "source": [
    "Trying to solve a few puzzles"
   ]
  },
  {
   "cell_type": "code",
   "execution_count": 8,
   "metadata": {},
   "outputs": [
    {
     "data": {
      "text/plain": [
       "4"
      ]
     },
     "execution_count": 8,
     "metadata": {},
     "output_type": "execute_result"
    }
   ],
   "source": [
    "import sudoku\n",
    "from sudoku import puzzles\n",
    "from sudoku.reader import get_matrix\n",
    "from sudoku.printer import display_grid\n",
    "\n",
    "import copy\n",
    "\n",
    "p = '''000000000\n",
    "000000000\n",
    "000050000\n",
    "050000000\n",
    "000000500\n",
    "000000000\n",
    "000500000\n",
    "000000000\n",
    "000000000'''\n",
    "\n",
    "grid = get_matrix(p)\n",
    "sudoku.n_nonzero(grid)\n"
   ]
  },
  {
   "cell_type": "code",
   "execution_count": 9,
   "metadata": {},
   "outputs": [
    {
     "name": "stdout",
     "output_type": "stream",
     "text": [
      ".........\n",
      ".........\n",
      "....5....\n",
      ".5.......\n",
      "......5..\n",
      ".........\n",
      "...5.....\n",
      ".........\n",
      ".........\n"
     ]
    }
   ],
   "source": [
    "from sudoku.printer import display_file\n",
    "\n",
    "display_file(grid)"
   ]
  },
  {
   "cell_type": "code",
   "execution_count": 13,
   "metadata": {},
   "outputs": [
    {
     "name": "stdout",
     "output_type": "stream",
     "text": [
      "12\n",
      "4\n",
      "12\n",
      "4\n",
      ".........\n",
      ".........\n",
      "....5....\n",
      ".5.......\n",
      "......5..\n",
      ".....5...\n",
      "...5.....\n",
      ".........\n",
      ".........\n",
      "15\n",
      "5\n",
      "243\n",
      "81\n",
      "1 2 3 | 4 6 7 | 8 5 9 \n",
      "4 6 5 | 1 8 9 | 2 3 7 \n",
      "7 8 9 | 2 5 3 | 1 4 6 \n",
      "------+-------+------\n",
      "2 5 1 | 3 4 6 | 7 9 8 \n",
      "3 4 7 | 8 9 1 | 5 6 2 \n",
      "6 9 8 | 7 2 5 | 3 1 4 \n",
      "------+-------+------\n",
      "8 1 6 | 5 7 4 | 9 2 3 \n",
      "5 7 4 | 9 3 2 | 6 8 1 \n",
      "9 3 2 | 6 1 8 | 4 7 5 \n"
     ]
    }
   ],
   "source": [
    "from sudoku.solvers import heuristic\n",
    "from sudoku.printer import display_supergrid\n",
    "\n",
    "problem = copy.deepcopy(grid)\n",
    "problem = heuristic.pencil_in_numbers(problem)\n",
    "\n",
    "display_supergrid(problem)\n",
    "\n",
    "# print(sudoku.grid_score(problem))\n",
    "# print(sudoku.n_nonzero(problem))\n",
    "# heuristic.simple_elimination(problem)\n",
    "# print(sudoku.grid_score(problem))\n",
    "# print(sudoku.n_nonzero(problem))\n",
    "# heuristic.hidden_single(problem)\n",
    "# display_file(problem)\n",
    "# print(sudoku.grid_score(problem))\n",
    "# print(sudoku.n_nonzero(problem))\n",
    "# heuristic.backtrack(problem)\n",
    "# print(sudoku.grid_score(problem))\n",
    "# print(sudoku.n_nonzero(problem))\n",
    "\n",
    "\n",
    "# display_grid(problem)\n"
   ]
  },
  {
   "cell_type": "code",
   "execution_count": 14,
   "metadata": {},
   "outputs": [
    {
     "name": "stdout",
     "output_type": "stream",
     "text": [
      "123467859\n",
      "465189237\n",
      "789253146\n",
      "251346798\n",
      "347891562\n",
      "698725314\n",
      "816574923\n",
      "574932681\n",
      "932618475\n",
      "\n",
      "123467859\n",
      "465189237\n",
      "789253146\n",
      "251346798\n",
      "347891562\n",
      "698725314\n",
      "816574923\n",
      "574932681\n",
      "932618475\n"
     ]
    }
   ],
   "source": [
    "display_file(problem)\n",
    "print(\"\")\n",
    "sudoku.flatten(problem)\n",
    "display_file(problem)"
   ]
  }
 ],
 "metadata": {
  "kernelspec": {
   "display_name": "Python 3",
   "language": "python",
   "name": "python3"
  },
  "language_info": {
   "codemirror_mode": {
    "name": "ipython",
    "version": 3
   },
   "file_extension": ".py",
   "mimetype": "text/x-python",
   "name": "python",
   "nbconvert_exporter": "python",
   "pygments_lexer": "ipython3",
   "version": "3.11.6"
  },
  "orig_nbformat": 4
 },
 "nbformat": 4,
 "nbformat_minor": 2
}
