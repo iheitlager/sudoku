{
 "cells": [
  {
   "cell_type": "markdown",
   "metadata": {},
   "source": [
    "This notebook provides a simple sudoku solver. Let's start with a simple 4 (\\*\\*\\*\\*) star sudoku"
   ]
  },
  {
   "cell_type": "code",
   "execution_count": 22,
   "metadata": {},
   "outputs": [],
   "source": [
    "# Parool Dinsdag 19 sept ****\n",
    "sudoku_grid = [\n",
    "    [0, 0, 0, 0, 0, 0, 0, 9, 2],\n",
    "    [0, 0, 0, 1, 0, 0, 0, 4, 0],\n",
    "    [9, 0, 0, 2, 4, 0, 0, 0, 7],\n",
    "    [8, 0, 0, 7, 0, 0, 1, 5, 0],\n",
    "    [6, 5, 0, 9, 0, 1, 0, 7, 8],\n",
    "    [0, 7, 4, 0, 0, 8, 0, 0, 6],\n",
    "    [3, 0, 0, 0, 9, 5, 0, 0, 1],\n",
    "    [0, 8, 0, 0, 0, 6, 0, 0, 0],\n",
    "    [7, 9, 0, 0, 0, 0, 0, 0, 0]\n",
    "]\n"
   ]
  },
  {
   "cell_type": "code",
   "execution_count": 24,
   "metadata": {},
   "outputs": [
    {
     "ename": "StopIteration",
     "evalue": "",
     "output_type": "error",
     "traceback": [
      "\u001b[0;31m---------------------------------------------------------------------------\u001b[0m",
      "\u001b[0;31mStopIteration\u001b[0m                             Traceback (most recent call last)",
      "Cell \u001b[0;32mIn[24], line 3\u001b[0m\n\u001b[1;32m      1\u001b[0m \u001b[39mfrom\u001b[39;00m \u001b[39msudoku\u001b[39;00m \u001b[39mimport\u001b[39;00m all_grid\n\u001b[0;32m----> 3\u001b[0m \u001b[39mnext\u001b[39;49m((i, j) \u001b[39mfor\u001b[39;49;00m (i, j) \u001b[39min\u001b[39;49;00m all_grid \u001b[39mif\u001b[39;49;00m sudoku_grid[i][j] \u001b[39m==\u001b[39;49m \u001b[39m10\u001b[39;49m)\n\u001b[1;32m      5\u001b[0m \u001b[39m\"\u001b[39m\u001b[39m\"\u001b[39m\u001b[39m.\u001b[39mjoin([\u001b[39mstr\u001b[39m(c) \u001b[39mfor\u001b[39;00m row \u001b[39min\u001b[39;00m sudoku_grid \u001b[39mfor\u001b[39;00m c \u001b[39min\u001b[39;00m row])\n\u001b[1;32m      7\u001b[0m \u001b[39msum\u001b[39m(sudoku_grid[i][j] \u001b[39m!=\u001b[39m \u001b[39m0\u001b[39m \u001b[39mfor\u001b[39;00m (i, j) \u001b[39min\u001b[39;00m all_grid)\n",
      "\u001b[0;31mStopIteration\u001b[0m: "
     ]
    }
   ],
   "source": [
    "from sudoku import all_grid\n",
    "\n",
    "next(((i, j) for (i, j) in all_grid if sudoku_grid[i][j] == 10), (None, None))\n",
    "\n",
    "# \"\".join([str(c) for row in sudoku_grid for c in row])\n",
    "\n",
    "# sum(sudoku_grid[i][j] != 0 for (i, j) in all_grid)"
   ]
  },
  {
   "cell_type": "markdown",
   "metadata": {},
   "source": [
    "And let's show the grid by importing a simple pretty printer. "
   ]
  },
  {
   "cell_type": "code",
   "execution_count": 2,
   "metadata": {},
   "outputs": [],
   "source": [
    "from sudoku.solvers import heuristic\n",
    "\n",
    "grid = heuristic.pencil_in_numbers(sudoku_grid)"
   ]
  },
  {
   "cell_type": "code",
   "execution_count": 3,
   "metadata": {},
   "outputs": [
    {
     "data": {
      "text/plain": [
       "[[[1, 4, 5],\n",
       "  [1, 3, 4, 6],\n",
       "  [1, 3, 5, 6, 7, 8],\n",
       "  [6],\n",
       "  [5, 6, 7, 8],\n",
       "  [7],\n",
       "  [3, 5, 6, 8],\n",
       "  [9],\n",
       "  [2]],\n",
       " [[2, 5],\n",
       "  [2, 3, 6],\n",
       "  [2, 3, 5, 6, 7, 8],\n",
       "  [1],\n",
       "  [5, 6, 7, 8],\n",
       "  [9],\n",
       "  [3, 5, 6, 8],\n",
       "  [4],\n",
       "  [3, 5]],\n",
       " [[9], [1, 3, 6], [1, 3, 5, 6, 8], [2], [4], [3], [3, 5, 6, 8], [1], [7]],\n",
       " [[8], [2, 3], [9], [7], [6], [4], [1], [5], [3, 4, 9]],\n",
       " [[6], [5], [2, 3], [9], [2, 3], [1], [4], [7], [8]],\n",
       " [[1], [7], [4], [3, 5], [2, 3, 5], [8], [9], [2, 3], [6]],\n",
       " [[3], [2, 4, 6], [2, 6], [4, 8], [9], [5], [7], [2, 6, 8], [1]],\n",
       " [[1, 2, 4, 5],\n",
       "  [8],\n",
       "  [1, 2, 5],\n",
       "  [3, 4],\n",
       "  [7],\n",
       "  [6],\n",
       "  [2, 3, 4, 5, 7, 9],\n",
       "  [2, 3],\n",
       "  [3, 4, 5, 9]],\n",
       " [[7],\n",
       "  [9],\n",
       "  [1, 2, 5, 6],\n",
       "  [3, 4, 8],\n",
       "  [1, 2, 3, 8],\n",
       "  [2, 3, 4],\n",
       "  [2, 3, 4, 5, 6, 8],\n",
       "  [2, 3, 6, 8],\n",
       "  [3, 4, 5]]]"
      ]
     },
     "execution_count": 3,
     "metadata": {},
     "output_type": "execute_result"
    }
   ],
   "source": [
    "heuristic.simple_elimination(grid)\n",
    "heuristic.hidden_single(grid)\n",
    "\n",
    "grid"
   ]
  },
  {
   "cell_type": "code",
   "execution_count": 4,
   "metadata": {},
   "outputs": [
    {
     "data": {
      "text/plain": [
       "[[[4], [1], [8], [6], [5, 8], [7], [3], [9], [2]],\n",
       " [[2, 5], [3], [7], [1], [8], [9], [6], [4], [5]],\n",
       " [[9], [6], [5], [2], [4], [3], [8], [1], [7]],\n",
       " [[8], [2], [9], [7], [6], [4], [1], [5], [3]],\n",
       " [[6], [5], [3], [9], [2], [1], [4], [7], [8]],\n",
       " [[1], [7], [4], [5], [3], [8], [9], [2], [6]],\n",
       " [[3], [4], [2, 6], [4, 8], [9], [5], [7], [2, 6, 8], [1]],\n",
       " [[2, 5], [8], [1], [3, 4], [7], [6], [2, 3, 5], [2, 3], [9]],\n",
       " [[7],\n",
       "  [9],\n",
       "  [1, 2, 5, 6],\n",
       "  [3, 4, 8],\n",
       "  [1],\n",
       "  [2],\n",
       "  [2, 3, 5, 6, 8],\n",
       "  [2, 3, 6, 8],\n",
       "  [4, 5]]]"
      ]
     },
     "execution_count": 4,
     "metadata": {},
     "output_type": "execute_result"
    }
   ],
   "source": [
    "heuristic.simple_elimination(grid)\n",
    "heuristic.hidden_single(grid)\n",
    "grid"
   ]
  },
  {
   "cell_type": "code",
   "execution_count": 5,
   "metadata": {},
   "outputs": [
    {
     "data": {
      "text/plain": [
       "True"
      ]
     },
     "execution_count": 5,
     "metadata": {},
     "output_type": "execute_result"
    }
   ],
   "source": [
    "from sudoku.solvers import heuristic\n",
    "\n",
    "heuristic.solve(grid)"
   ]
  },
  {
   "cell_type": "code",
   "execution_count": 6,
   "metadata": {},
   "outputs": [
    {
     "data": {
      "text/plain": [
       "[[4, 1, 8, 6, 5, 7, 3, 9, 2],\n",
       " [2, 3, 7, 1, 8, 9, 6, 4, 5],\n",
       " [9, 6, 5, 2, 4, 3, 8, 1, 7],\n",
       " [8, 2, 9, 7, 6, 4, 1, 5, 3],\n",
       " [6, 5, 3, 9, 2, 1, 4, 7, 8],\n",
       " [1, 7, 4, 5, 3, 8, 9, 2, 6],\n",
       " [3, 4, 2, 8, 9, 5, 7, 6, 1],\n",
       " [5, 8, 1, 4, 7, 6, 2, 3, 9],\n",
       " [7, 9, 6, 3, 1, 2, 5, 8, 4]]"
      ]
     },
     "execution_count": 6,
     "metadata": {},
     "output_type": "execute_result"
    }
   ],
   "source": [
    "grid"
   ]
  }
 ],
 "metadata": {
  "kernelspec": {
   "display_name": "Python 3",
   "language": "python",
   "name": "python3"
  },
  "language_info": {
   "codemirror_mode": {
    "name": "ipython",
    "version": 3
   },
   "file_extension": ".py",
   "mimetype": "text/x-python",
   "name": "python",
   "nbconvert_exporter": "python",
   "pygments_lexer": "ipython3",
   "version": "3.11.6"
  },
  "orig_nbformat": 4
 },
 "nbformat": 4,
 "nbformat_minor": 2
}
