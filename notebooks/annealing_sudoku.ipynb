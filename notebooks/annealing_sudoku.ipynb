{
 "cells": [
  {
   "cell_type": "markdown",
   "metadata": {},
   "source": [
    "This notebook provides a simple sudoku solver. Let's start with a simple 4 (\\*\\*\\*\\*) star sudoku"
   ]
  },
  {
   "cell_type": "code",
   "execution_count": 3,
   "metadata": {},
   "outputs": [],
   "source": [
    "# https://www.adrian.idv.hk/2019-01-30-simanneal/\n",
    "# Parool Dinsdag 19 sept ****\n",
    "sudoku_grid = [\n",
    "    [0, 0, 0, 0, 0, 0, 0, 9, 2],\n",
    "    [0, 0, 0, 1, 0, 0, 0, 4, 0],\n",
    "    [9, 0, 0, 2, 4, 0, 0, 0, 7],\n",
    "    [8, 0, 0, 7, 0, 0, 1, 5, 0],\n",
    "    [6, 5, 0, 9, 0, 1, 0, 7, 8],\n",
    "    [0, 7, 4, 0, 0, 8, 0, 0, 6],\n",
    "    [3, 0, 0, 0, 9, 5, 0, 0, 1],\n",
    "    [0, 8, 0, 0, 0, 6, 0, 0, 0],\n",
    "    [7, 9, 0, 0, 0, 0, 0, 0, 0]\n",
    "]\n",
    "\n",
    "solution_grid = [\n",
    "    [4, 1, 8, 6, 5, 7, 3, 9, 2],\n",
    "    [2, 3, 7, 1, 8, 9, 6, 4, 5],\n",
    "    [9, 6, 5, 2, 4, 3, 8, 1, 7],\n",
    "    [8, 2, 9, 7, 6, 4, 1, 5, 3],\n",
    "    [6, 5, 3, 9, 2, 1, 4, 7, 8],\n",
    "    [1, 7, 4, 5, 3, 8, 9, 2, 6],\n",
    "    [3, 4, 2, 8, 9, 5, 7, 6, 1],\n",
    "    [5, 8, 1, 4, 7, 6, 2, 3, 9],\n",
    "    [7, 9, 6, 3, 1, 2, 5, 8, 4]\n",
    "]\n",
    "\n",
    "problem = [x for row in sudoku_grid for x in row]"
   ]
  },
  {
   "cell_type": "code",
   "execution_count": 9,
   "metadata": {},
   "outputs": [
    {
     "data": {
      "text/plain": [
       "-9"
      ]
     },
     "execution_count": 9,
     "metadata": {},
     "output_type": "execute_result"
    }
   ],
   "source": [
    "column_score = lambda n: -len(set(problem[i*9+n] for i in range(9)))\n",
    "row_score = lambda n: -len(set(problem[n*9+j] for j in range(9)))\n",
    "block_score = lambda n: -len(set(problem[i*9+j] for (i, j) in all_blocks[n]))\n",
    "\n",
    "from sudoku import all_blocks\n",
    "\n",
    "\n",
    "sum(column_score(n)+row_score(n) for n in range(9))\n",
    "\n",
    "block_score(2)"
   ]
  },
  {
   "cell_type": "code",
   "execution_count": 3,
   "metadata": {},
   "outputs": [
    {
     "data": {
      "text/plain": [
       "[[(0, 0), (0, 1), (0, 2), (1, 0), (1, 1), (1, 2), (2, 0), (2, 1), (2, 2)],\n",
       " [(0, 3), (0, 4), (0, 5), (1, 3), (1, 4), (1, 5), (2, 3), (2, 4), (2, 5)],\n",
       " [(0, 6), (0, 7), (0, 8), (1, 6), (1, 7), (1, 8), (2, 6), (2, 7), (2, 8)],\n",
       " [(3, 0), (3, 1), (3, 2), (4, 0), (4, 1), (4, 2), (5, 0), (5, 1), (5, 2)],\n",
       " [(3, 3), (3, 4), (3, 5), (4, 3), (4, 4), (4, 5), (5, 3), (5, 4), (5, 5)],\n",
       " [(3, 6), (3, 7), (3, 8), (4, 6), (4, 7), (4, 8), (5, 6), (5, 7), (5, 8)],\n",
       " [(6, 0), (6, 1), (6, 2), (7, 0), (7, 1), (7, 2), (8, 0), (8, 1), (8, 2)],\n",
       " [(6, 3), (6, 4), (6, 5), (7, 3), (7, 4), (7, 5), (8, 3), (8, 4), (8, 5)],\n",
       " [(6, 6), (6, 7), (6, 8), (7, 6), (7, 7), (7, 8), (8, 6), (8, 7), (8, 8)]]"
      ]
     },
     "execution_count": 3,
     "metadata": {},
     "output_type": "execute_result"
    }
   ],
   "source": [
    "from sudoku.solvers import heuristic\n",
    "\n",
    "heuristic.all_blocks"
   ]
  },
  {
   "cell_type": "code",
   "execution_count": 2,
   "metadata": {},
   "outputs": [
    {
     "data": {
      "text/plain": [
       "[(3, 3), (3, 4), (3, 5), (4, 3), (4, 4), (4, 5), (5, 3), (5, 4), (5, 5)]"
      ]
     },
     "execution_count": 2,
     "metadata": {},
     "output_type": "execute_result"
    }
   ],
   "source": [
    "def coord(row, col):\n",
    "    return row*9+col\n",
    "\n",
    "def block_indices(block_num):\n",
    "    \"\"\"return linear array indices corresp to the sq block, row major, 0-indexed.\n",
    "    block:\n",
    "       0 1 2     (0,0) (0,3) (0,6)\n",
    "       3 4 5 --> (3,0) (3,3) (3,6)\n",
    "       6 7 8     (6,0) (6,3) (6,6)\n",
    "    \"\"\"\n",
    "    firstrow = (block_num // 3) * 3\n",
    "    firstcol = (block_num % 3) * 3\n",
    "#    indices = [coord(firstrow+i, firstcol+j) for i in range(3) for j in range(3)]\n",
    "    indices = [(firstrow+i, firstcol+j) for i in range(3) for j in range(3)]\n",
    "\n",
    "    return indices\n",
    "\n",
    "\n",
    "block_indices(4)"
   ]
  },
  {
   "cell_type": "code",
   "execution_count": 5,
   "metadata": {},
   "outputs": [
    {
     "data": {
      "text/plain": [
       "[5,\n",
       " 7,\n",
       " 1,\n",
       " 7,\n",
       " 9,\n",
       " 5,\n",
       " 5,\n",
       " 9,\n",
       " 2,\n",
       " 3,\n",
       " 4,\n",
       " 2,\n",
       " 1,\n",
       " 8,\n",
       " 3,\n",
       " 8,\n",
       " 4,\n",
       " 3,\n",
       " 9,\n",
       " 6,\n",
       " 8,\n",
       " 2,\n",
       " 4,\n",
       " 6,\n",
       " 1,\n",
       " 6,\n",
       " 7,\n",
       " 8,\n",
       " 2,\n",
       " 9,\n",
       " 7,\n",
       " 6,\n",
       " 4,\n",
       " 1,\n",
       " 5,\n",
       " 3,\n",
       " 6,\n",
       " 5,\n",
       " 3,\n",
       " 9,\n",
       " 2,\n",
       " 1,\n",
       " 2,\n",
       " 7,\n",
       " 8,\n",
       " 1,\n",
       " 7,\n",
       " 4,\n",
       " 5,\n",
       " 3,\n",
       " 8,\n",
       " 4,\n",
       " 9,\n",
       " 6,\n",
       " 3,\n",
       " 2,\n",
       " 5,\n",
       " 4,\n",
       " 9,\n",
       " 5,\n",
       " 4,\n",
       " 6,\n",
       " 1,\n",
       " 4,\n",
       " 8,\n",
       " 1,\n",
       " 1,\n",
       " 8,\n",
       " 6,\n",
       " 8,\n",
       " 3,\n",
       " 7,\n",
       " 7,\n",
       " 9,\n",
       " 6,\n",
       " 2,\n",
       " 7,\n",
       " 3,\n",
       " 9,\n",
       " 2,\n",
       " 5]"
      ]
     },
     "execution_count": 5,
     "metadata": {},
     "output_type": "execute_result"
    }
   ],
   "source": [
    "import random\n",
    "\n",
    "def initial_solution(problem):\n",
    "    \"\"\"provide sudoku problem, generate an init solution by randomly filling\n",
    "    each sq block without considering row/col consistency\"\"\"\n",
    "    solution = problem.copy()\n",
    "    for block in range(9):\n",
    "        indices = [i*9+j for (i, j) in heuristic.all_blocks[block]]\n",
    "#        block = problem[indices]\n",
    "        block = [problem[i] for i in indices]\n",
    "        zeros = [i for i in indices if problem[i] == 0]\n",
    "        to_fill = [i for i in range(1, 10) if i not in block]\n",
    "        random.shuffle(to_fill)\n",
    "        for index, value in zip(zeros, to_fill):\n",
    "            solution[index] = value\n",
    "    return solution\n",
    "\n",
    "\n",
    "initial_solution(problem)"
   ]
  },
  {
   "cell_type": "code",
   "execution_count": 6,
   "metadata": {},
   "outputs": [],
   "source": [
    "from simanneal import Annealer\n",
    "\n",
    "class Sudoku_Sq(Annealer):\n",
    "    def __init__(self, problem):\n",
    "        self.problem = problem\n",
    "        state = initial_solution(problem)\n",
    "        super().__init__(state)\n",
    "    def move(self):\n",
    "        \"\"\"randomly swap two cells in a random square\"\"\"\n",
    "        block = random.randrange(9)\n",
    "        indices = [(i*9+j) for (i, j) in all_blocks[block] if self.problem[i*9+j] == 0]\n",
    "        m, n = random.sample(indices, 2)\n",
    "        self.state[m], self.state[n] = self.state[n], self.state[m]\n",
    "    def energy(self):\n",
    "        \"\"\"calculate the number of violations: assume all rows are OK\"\"\"\n",
    "        column_score = lambda n: -len(set(self.state[coord(i, n)] for i in range(9)))\n",
    "        row_score = lambda n: -len(set(self.state[coord(n, i)] for i in range(9)))\n",
    "        block_score = lambda n: -len(set(self.state[i*9+j] for (i, j) in all_blocks[n]))\n",
    "        score = sum(column_score(n)+row_score(n)+block_score(n) for n in range(9))\n",
    "        if score == -3*9*9:\n",
    "            self.user_exit = True # early quit, we found a solution\n",
    "        return score\n"
   ]
  },
  {
   "cell_type": "code",
   "execution_count": 7,
   "metadata": {},
   "outputs": [
    {
     "name": "stderr",
     "output_type": "stream",
     "text": [
      " Temperature        Energy    Accept   Improve     Elapsed   Remaining\n",
      "     0.50000       -118.00                         0:00:00            \r"
     ]
    },
    {
     "ename": "TypeError",
     "evalue": "list indices must be integers or slices, not tuple",
     "output_type": "error",
     "traceback": [
      "\u001b[0;31m---------------------------------------------------------------------------\u001b[0m",
      "\u001b[0;31mTypeError\u001b[0m                                 Traceback (most recent call last)",
      "Cell \u001b[0;32mIn[7], line 8\u001b[0m\n\u001b[1;32m      6\u001b[0m sudoku\u001b[39m.\u001b[39msteps \u001b[39m=\u001b[39m \u001b[39m100000\u001b[39m\n\u001b[1;32m      7\u001b[0m sudoku\u001b[39m.\u001b[39mupdates \u001b[39m=\u001b[39m \u001b[39m100\u001b[39m\n\u001b[0;32m----> 8\u001b[0m state, e \u001b[39m=\u001b[39m sudoku\u001b[39m.\u001b[39;49manneal()\n\u001b[1;32m      9\u001b[0m \u001b[39mprint\u001b[39m(\u001b[39m\"\u001b[39m\u001b[39m\\n\u001b[39;00m\u001b[39m\"\u001b[39m)\n\u001b[1;32m     11\u001b[0m \u001b[39mprint\u001b[39m(\u001b[39m\"\u001b[39m\u001b[39mE=\u001b[39m\u001b[39m%f\u001b[39;00m\u001b[39m (expect -162)\u001b[39m\u001b[39m\"\u001b[39m \u001b[39m%\u001b[39m e)\n",
      "File \u001b[0;32m~/.virtualenv/sudoku/lib/python3.11/site-packages/simanneal/anneal.py:196\u001b[0m, in \u001b[0;36mAnnealer.anneal\u001b[0;34m(self)\u001b[0m\n\u001b[1;32m    194\u001b[0m step \u001b[39m+\u001b[39m\u001b[39m=\u001b[39m \u001b[39m1\u001b[39m\n\u001b[1;32m    195\u001b[0m T \u001b[39m=\u001b[39m \u001b[39mself\u001b[39m\u001b[39m.\u001b[39mTmax \u001b[39m*\u001b[39m math\u001b[39m.\u001b[39mexp(Tfactor \u001b[39m*\u001b[39m step \u001b[39m/\u001b[39m \u001b[39mself\u001b[39m\u001b[39m.\u001b[39msteps)\n\u001b[0;32m--> 196\u001b[0m dE \u001b[39m=\u001b[39m \u001b[39mself\u001b[39;49m\u001b[39m.\u001b[39;49mmove()\n\u001b[1;32m    197\u001b[0m \u001b[39mif\u001b[39;00m dE \u001b[39mis\u001b[39;00m \u001b[39mNone\u001b[39;00m:\n\u001b[1;32m    198\u001b[0m     E \u001b[39m=\u001b[39m \u001b[39mself\u001b[39m\u001b[39m.\u001b[39menergy()\n",
      "Cell \u001b[0;32mIn[6], line 11\u001b[0m, in \u001b[0;36mSudoku_Sq.move\u001b[0;34m(self)\u001b[0m\n\u001b[1;32m      9\u001b[0m \u001b[39m\u001b[39m\u001b[39m\"\"\"randomly swap two cells in a random square\"\"\"\u001b[39;00m\n\u001b[1;32m     10\u001b[0m block \u001b[39m=\u001b[39m random\u001b[39m.\u001b[39mrandrange(\u001b[39m9\u001b[39m)\n\u001b[0;32m---> 11\u001b[0m indices \u001b[39m=\u001b[39m [i \u001b[39mfor\u001b[39;49;00m i \u001b[39min\u001b[39;49;00m block_indices(block) \u001b[39mif\u001b[39;49;00m \u001b[39mself\u001b[39;49m\u001b[39m.\u001b[39;49mproblem[i] \u001b[39m==\u001b[39;49m \u001b[39m0\u001b[39;49m]\n\u001b[1;32m     12\u001b[0m m, n \u001b[39m=\u001b[39m random\u001b[39m.\u001b[39msample(indices, \u001b[39m2\u001b[39m)\n\u001b[1;32m     13\u001b[0m \u001b[39mself\u001b[39m\u001b[39m.\u001b[39mstate[m], \u001b[39mself\u001b[39m\u001b[39m.\u001b[39mstate[n] \u001b[39m=\u001b[39m \u001b[39mself\u001b[39m\u001b[39m.\u001b[39mstate[n], \u001b[39mself\u001b[39m\u001b[39m.\u001b[39mstate[m]\n",
      "Cell \u001b[0;32mIn[6], line 11\u001b[0m, in \u001b[0;36m<listcomp>\u001b[0;34m(.0)\u001b[0m\n\u001b[1;32m      9\u001b[0m \u001b[39m\u001b[39m\u001b[39m\"\"\"randomly swap two cells in a random square\"\"\"\u001b[39;00m\n\u001b[1;32m     10\u001b[0m block \u001b[39m=\u001b[39m random\u001b[39m.\u001b[39mrandrange(\u001b[39m9\u001b[39m)\n\u001b[0;32m---> 11\u001b[0m indices \u001b[39m=\u001b[39m [i \u001b[39mfor\u001b[39;00m i \u001b[39min\u001b[39;00m block_indices(block) \u001b[39mif\u001b[39;00m \u001b[39mself\u001b[39;49m\u001b[39m.\u001b[39;49mproblem[i] \u001b[39m==\u001b[39m \u001b[39m0\u001b[39m]\n\u001b[1;32m     12\u001b[0m m, n \u001b[39m=\u001b[39m random\u001b[39m.\u001b[39msample(indices, \u001b[39m2\u001b[39m)\n\u001b[1;32m     13\u001b[0m \u001b[39mself\u001b[39m\u001b[39m.\u001b[39mstate[m], \u001b[39mself\u001b[39m\u001b[39m.\u001b[39mstate[n] \u001b[39m=\u001b[39m \u001b[39mself\u001b[39m\u001b[39m.\u001b[39mstate[n], \u001b[39mself\u001b[39m\u001b[39m.\u001b[39mstate[m]\n",
      "\u001b[0;31mTypeError\u001b[0m: list indices must be integers or slices, not tuple"
     ]
    }
   ],
   "source": [
    "sudoku = Sudoku_Sq(problem)\n",
    "sudoku.copy_strategy = \"method\"\n",
    "\n",
    "sudoku.Tmax = 0.5\n",
    "sudoku.Tmin = 0.05\n",
    "sudoku.steps = 100000\n",
    "sudoku.updates = 100\n",
    "state, e = sudoku.anneal()\n",
    "print(\"\\n\")\n",
    "\n",
    "print(\"E=%f (expect -162)\" % e)\n"
   ]
  },
  {
   "cell_type": "code",
   "execution_count": 9,
   "metadata": {},
   "outputs": [
    {
     "name": "stdout",
     "output_type": "stream",
     "text": [
      "4 1 8 | 6 5 7 | 3 9 2 \n",
      "2 3 7 | 1 8 9 | 6 4 5 \n",
      "9 6 5 | 2 4 3 | 8 1 7 \n",
      "------+-------+------\n",
      "8 2 9 | 7 6 4 | 1 5 3 \n",
      "6 5 3 | 9 2 1 | 4 7 8 \n",
      "1 7 4 | 5 3 8 | 9 2 6 \n",
      "------+-------+------\n",
      "3 4 2 | 8 9 5 | 7 6 1 \n",
      "5 8 1 | 4 7 6 | 2 3 9 \n",
      "7 9 6 | 3 1 2 | 5 8 4 \n"
     ]
    }
   ],
   "source": [
    "from sudoku.printer import display_list\n",
    "\n",
    "display_list(state)"
   ]
  }
 ],
 "metadata": {
  "kernelspec": {
   "display_name": "Python 3",
   "language": "python",
   "name": "python3"
  },
  "language_info": {
   "codemirror_mode": {
    "name": "ipython",
    "version": 3
   },
   "file_extension": ".py",
   "mimetype": "text/x-python",
   "name": "python",
   "nbconvert_exporter": "python",
   "pygments_lexer": "ipython3",
   "version": "3.11.6"
  },
  "orig_nbformat": 4
 },
 "nbformat": 4,
 "nbformat_minor": 2
}
