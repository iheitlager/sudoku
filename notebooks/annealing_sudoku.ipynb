{
 "cells": [
  {
   "cell_type": "markdown",
   "metadata": {},
   "source": [
    "This notebook provides a simple sudoku solver. Let's start with a simple 4 (\\*\\*\\*\\*) star sudoku"
   ]
  },
  {
   "cell_type": "code",
   "execution_count": 1,
   "metadata": {},
   "outputs": [],
   "source": [
    "# https://www.adrian.idv.hk/2019-01-30-simanneal/\n",
    "# Parool Dinsdag 19 sept ****\n",
    "sudoku_grid = [\n",
    "    [0, 0, 0, 0, 0, 0, 0, 9, 2],\n",
    "    [0, 0, 0, 1, 0, 0, 0, 4, 0],\n",
    "    [9, 0, 0, 2, 4, 0, 0, 0, 7],\n",
    "    [8, 0, 0, 7, 0, 0, 1, 5, 0],\n",
    "    [6, 5, 0, 9, 0, 1, 0, 7, 8],\n",
    "    [0, 7, 4, 0, 0, 8, 0, 0, 6],\n",
    "    [3, 0, 0, 0, 9, 5, 0, 0, 1],\n",
    "    [0, 8, 0, 0, 0, 6, 0, 0, 0],\n",
    "    [7, 9, 0, 0, 0, 0, 0, 0, 0]\n",
    "]\n",
    "\n",
    "\n",
    "problem = [x for row in sudoku_grid for x in row]"
   ]
  },
  {
   "cell_type": "code",
   "execution_count": 2,
   "metadata": {},
   "outputs": [
    {
     "data": {
      "text/plain": [
       "[3, 4, 5, 12, 13, 14, 21, 22, 23]"
      ]
     },
     "execution_count": 2,
     "metadata": {},
     "output_type": "execute_result"
    }
   ],
   "source": [
    "def coord(row, col):\n",
    "    return row*9+col\n",
    "\n",
    "def block_indices(block_num):\n",
    "    \"\"\"return linear array indices corresp to the sq block, row major, 0-indexed.\n",
    "    block:\n",
    "       0 1 2     (0,0) (0,3) (0,6)\n",
    "       3 4 5 --> (3,0) (3,3) (3,6)\n",
    "       6 7 8     (6,0) (6,3) (6,6)\n",
    "    \"\"\"\n",
    "    firstrow = (block_num // 3) * 3\n",
    "    firstcol = (block_num % 3) * 3\n",
    "    indices = [coord(firstrow+i, firstcol+j) for i in range(3) for j in range(3)]\n",
    "    return indices\n",
    "\n",
    "\n",
    "block_indices(1)"
   ]
  },
  {
   "cell_type": "code",
   "execution_count": 3,
   "metadata": {},
   "outputs": [
    {
     "data": {
      "text/plain": [
       "[3,\n",
       " 7,\n",
       " 4,\n",
       " 7,\n",
       " 6,\n",
       " 3,\n",
       " 6,\n",
       " 9,\n",
       " 2,\n",
       " 8,\n",
       " 5,\n",
       " 2,\n",
       " 1,\n",
       " 8,\n",
       " 5,\n",
       " 5,\n",
       " 4,\n",
       " 1,\n",
       " 9,\n",
       " 1,\n",
       " 6,\n",
       " 2,\n",
       " 4,\n",
       " 9,\n",
       " 3,\n",
       " 8,\n",
       " 7,\n",
       " 8,\n",
       " 2,\n",
       " 1,\n",
       " 7,\n",
       " 3,\n",
       " 4,\n",
       " 1,\n",
       " 5,\n",
       " 2,\n",
       " 6,\n",
       " 5,\n",
       " 3,\n",
       " 9,\n",
       " 2,\n",
       " 1,\n",
       " 4,\n",
       " 7,\n",
       " 8,\n",
       " 9,\n",
       " 7,\n",
       " 4,\n",
       " 5,\n",
       " 6,\n",
       " 8,\n",
       " 9,\n",
       " 3,\n",
       " 6,\n",
       " 3,\n",
       " 2,\n",
       " 4,\n",
       " 8,\n",
       " 9,\n",
       " 5,\n",
       " 3,\n",
       " 8,\n",
       " 1,\n",
       " 1,\n",
       " 8,\n",
       " 5,\n",
       " 7,\n",
       " 1,\n",
       " 6,\n",
       " 5,\n",
       " 2,\n",
       " 7,\n",
       " 7,\n",
       " 9,\n",
       " 6,\n",
       " 4,\n",
       " 3,\n",
       " 2,\n",
       " 4,\n",
       " 9,\n",
       " 6]"
      ]
     },
     "execution_count": 3,
     "metadata": {},
     "output_type": "execute_result"
    }
   ],
   "source": [
    "import random\n",
    "\n",
    "def initial_solution(problem):\n",
    "    \"\"\"provide sudoku problem, generate an init solution by randomly filling\n",
    "    each sq block without considering row/col consistency\"\"\"\n",
    "    solution = problem.copy()\n",
    "    for block in range(9):\n",
    "        indices = block_indices(block)\n",
    "#        block = problem[indices]\n",
    "        block = [problem[i] for i in indices]\n",
    "        zeros = [i for i in indices if problem[i] == 0]\n",
    "        to_fill = [i for i in range(1, 10) if i not in block]\n",
    "        random.shuffle(to_fill)\n",
    "        for index, value in zip(zeros, to_fill):\n",
    "            solution[index] = value\n",
    "    return solution\n",
    "\n",
    "\n",
    "initial_solution(problem)"
   ]
  },
  {
   "cell_type": "code",
   "execution_count": 4,
   "metadata": {},
   "outputs": [],
   "source": [
    "from simanneal import Annealer\n",
    "\n",
    "class Sudoku_Sq(Annealer):\n",
    "    def __init__(self, problem):\n",
    "        self.problem = problem\n",
    "        state = initial_solution(problem)\n",
    "        super().__init__(state)\n",
    "    def move(self):\n",
    "        \"\"\"randomly swap two cells in a random square\"\"\"\n",
    "        block = random.randrange(9)\n",
    "        indices = [i for i in block_indices(block) if self.problem[i] == 0]\n",
    "        m, n = random.sample(indices, 2)\n",
    "        self.state[m], self.state[n] = self.state[n], self.state[m]\n",
    "    def energy(self):\n",
    "        \"\"\"calculate the number of violations: assume all rows are OK\"\"\"\n",
    "        column_score = lambda n: -len(set(self.state[coord(i, n)] for i in range(9)))\n",
    "        row_score = lambda n: -len(set(self.state[coord(n, i)] for i in range(9)))\n",
    "        score = sum(column_score(n)+row_score(n) for n in range(9))\n",
    "        if score == -162:\n",
    "            self.user_exit = True # early quit, we found a solution\n",
    "        return score\n"
   ]
  },
  {
   "cell_type": "code",
   "execution_count": 8,
   "metadata": {},
   "outputs": [
    {
     "name": "stderr",
     "output_type": "stream",
     "text": [
      " Temperature        Energy    Accept   Improve     Elapsed   Remaining\n",
      "     0.22854       -160.00     1.80%     0.10%     0:00:01     0:00:01"
     ]
    },
    {
     "name": "stdout",
     "output_type": "stream",
     "text": [
      "\n",
      "\n",
      "E=-162.000000 (expect -162)\n"
     ]
    }
   ],
   "source": [
    "sudoku = Sudoku_Sq(problem)\n",
    "sudoku.copy_strategy = \"method\"\n",
    "\n",
    "sudoku.Tmax = 0.5\n",
    "sudoku.Tmin = 0.05\n",
    "sudoku.steps = 100000\n",
    "sudoku.updates = 100\n",
    "state, e = sudoku.anneal()\n",
    "print(\"\\n\")\n",
    "\n",
    "print(\"E=%f (expect -162)\" % e)\n"
   ]
  },
  {
   "cell_type": "code",
   "execution_count": 9,
   "metadata": {},
   "outputs": [
    {
     "name": "stdout",
     "output_type": "stream",
     "text": [
      "4 1 8 | 6 5 7 | 3 9 2 \n",
      "2 3 7 | 1 8 9 | 6 4 5 \n",
      "9 6 5 | 2 4 3 | 8 1 7 \n",
      "------+-------+------\n",
      "8 2 9 | 7 6 4 | 1 5 3 \n",
      "6 5 3 | 9 2 1 | 4 7 8 \n",
      "1 7 4 | 5 3 8 | 9 2 6 \n",
      "------+-------+------\n",
      "3 4 2 | 8 9 5 | 7 6 1 \n",
      "5 8 1 | 4 7 6 | 2 3 9 \n",
      "7 9 6 | 3 1 2 | 5 8 4 \n"
     ]
    }
   ],
   "source": [
    "from sudoku.printer import display_list\n",
    "\n",
    "display_list(state)"
   ]
  }
 ],
 "metadata": {
  "kernelspec": {
   "display_name": "Python 3",
   "language": "python",
   "name": "python3"
  },
  "language_info": {
   "codemirror_mode": {
    "name": "ipython",
    "version": 3
   },
   "file_extension": ".py",
   "mimetype": "text/x-python",
   "name": "python",
   "nbconvert_exporter": "python",
   "pygments_lexer": "ipython3",
   "version": "3.11.6"
  },
  "orig_nbformat": 4
 },
 "nbformat": 4,
 "nbformat_minor": 2
}
