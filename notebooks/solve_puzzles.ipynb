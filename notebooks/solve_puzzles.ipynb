{
 "cells": [
  {
   "cell_type": "markdown",
   "metadata": {},
   "source": [
    "Trying to solve a few puzzles"
   ]
  },
  {
   "cell_type": "code",
   "execution_count": 1,
   "metadata": {},
   "outputs": [
    {
     "ename": "IndexError",
     "evalue": "string index out of range",
     "output_type": "error",
     "traceback": [
      "\u001b[0;31m---------------------------------------------------------------------------\u001b[0m",
      "\u001b[0;31mIndexError\u001b[0m                                Traceback (most recent call last)",
      "File \u001b[0;32m~/wc/sudoku/src/sudoku/__init__.py:95\u001b[0m, in \u001b[0;36mn_nonzero\u001b[0;34m(grid)\u001b[0m\n\u001b[1;32m     94\u001b[0m \u001b[39mtry\u001b[39;00m:\n\u001b[0;32m---> 95\u001b[0m     \u001b[39mreturn\u001b[39;00m \u001b[39msum\u001b[39;49m(grid[i][j][\u001b[39m0\u001b[39;49m] \u001b[39m!=\u001b[39;49m \u001b[39m0\u001b[39;49m \u001b[39mfor\u001b[39;49;00m (i, j) \u001b[39min\u001b[39;49;00m all_grid \u001b[39mif\u001b[39;49;00m \u001b[39mlen\u001b[39;49m(grid[i][j]) \u001b[39m==\u001b[39;49m \u001b[39m1\u001b[39;49m)\n\u001b[1;32m     96\u001b[0m \u001b[39mexcept\u001b[39;00m (\u001b[39mIndexError\u001b[39;00m, \u001b[39mTypeError\u001b[39;00m):\n\u001b[1;32m     97\u001b[0m \u001b[39m# if isinstance(grid[0][0], list):\u001b[39;00m\n\u001b[1;32m     98\u001b[0m \u001b[39m#     return sum(grid[i][j][0] != 0 for (i, j) in all_grid if len(grid[i][j]) == 1)\u001b[39;00m\n\u001b[1;32m     99\u001b[0m \u001b[39m# else:\u001b[39;00m\n",
      "File \u001b[0;32m~/wc/sudoku/src/sudoku/__init__.py:95\u001b[0m, in \u001b[0;36m<genexpr>\u001b[0;34m(.0)\u001b[0m\n\u001b[1;32m     94\u001b[0m \u001b[39mtry\u001b[39;00m:\n\u001b[0;32m---> 95\u001b[0m     \u001b[39mreturn\u001b[39;00m \u001b[39msum\u001b[39m(grid[i][j][\u001b[39m0\u001b[39m] \u001b[39m!=\u001b[39m \u001b[39m0\u001b[39m \u001b[39mfor\u001b[39;00m (i, j) \u001b[39min\u001b[39;00m all_grid \u001b[39mif\u001b[39;00m \u001b[39mlen\u001b[39m(grid[i][j]) \u001b[39m==\u001b[39m \u001b[39m1\u001b[39m)\n\u001b[1;32m     96\u001b[0m \u001b[39mexcept\u001b[39;00m (\u001b[39mIndexError\u001b[39;00m, \u001b[39mTypeError\u001b[39;00m):\n\u001b[1;32m     97\u001b[0m \u001b[39m# if isinstance(grid[0][0], list):\u001b[39;00m\n\u001b[1;32m     98\u001b[0m \u001b[39m#     return sum(grid[i][j][0] != 0 for (i, j) in all_grid if len(grid[i][j]) == 1)\u001b[39;00m\n\u001b[1;32m     99\u001b[0m \u001b[39m# else:\u001b[39;00m\n",
      "\u001b[0;31mIndexError\u001b[0m: string index out of range",
      "\nDuring handling of the above exception, another exception occurred:\n",
      "\u001b[0;31mIndexError\u001b[0m                                Traceback (most recent call last)",
      "Cell \u001b[0;32mIn[1], line 21\u001b[0m\n\u001b[1;32m     19\u001b[0m grid \u001b[39m=\u001b[39m p \u001b[39m#get_matrix(puzzles.puzzles1[1][1])\u001b[39;00m\n\u001b[1;32m     20\u001b[0m \u001b[39m#grid = get_matrix(\"060000190002610004701000000000070010006083000540060003080027039000400078000000400\")\u001b[39;00m\n\u001b[0;32m---> 21\u001b[0m display_stats(grid)\n\u001b[1;32m     22\u001b[0m display_file(grid, zero\u001b[39m=\u001b[39m\u001b[39m\"\u001b[39m\u001b[39m0\u001b[39m\u001b[39m\"\u001b[39m, sep\u001b[39m=\u001b[39m\u001b[39m\"\u001b[39m\u001b[39m,\u001b[39m\u001b[39m\"\u001b[39m)\n",
      "File \u001b[0;32m~/wc/sudoku/src/sudoku/printer.py:95\u001b[0m, in \u001b[0;36mdisplay_stats\u001b[0;34m(grid)\u001b[0m\n\u001b[1;32m     94\u001b[0m \u001b[39mdef\u001b[39;00m \u001b[39mdisplay_stats\u001b[39m(grid):\n\u001b[0;32m---> 95\u001b[0m     nz \u001b[39m=\u001b[39m sudoku\u001b[39m.\u001b[39;49mn_nonzero(grid)\n\u001b[1;32m     96\u001b[0m     \u001b[39mprint\u001b[39m(\u001b[39m\"\u001b[39m\u001b[39mFilled in: \u001b[39m\u001b[39m%d\u001b[39;00m\u001b[39m, open: \u001b[39m\u001b[39m%d\u001b[39;00m\u001b[39m (sum=\u001b[39m\u001b[39m%d\u001b[39;00m\u001b[39m)\u001b[39m\u001b[39m\"\u001b[39m \u001b[39m%\u001b[39m (nz, \u001b[39m81\u001b[39m\u001b[39m-\u001b[39mnz, \u001b[39m81\u001b[39m))\n\u001b[1;32m     97\u001b[0m     \u001b[39mprint\u001b[39m(\u001b[39m\"\u001b[39m\u001b[39mGrid score: \u001b[39m\u001b[39m%d\u001b[39;00m\u001b[39m (max=\u001b[39m\u001b[39m%d\u001b[39;00m\u001b[39m)\u001b[39m\u001b[39m\"\u001b[39m \u001b[39m%\u001b[39m (sudoku\u001b[39m.\u001b[39mgrid_score(grid), \u001b[39m3\u001b[39m\u001b[39m*\u001b[39m\u001b[39m9\u001b[39m\u001b[39m*\u001b[39m\u001b[39m9\u001b[39m))\n",
      "File \u001b[0;32m~/wc/sudoku/src/sudoku/__init__.py:100\u001b[0m, in \u001b[0;36mn_nonzero\u001b[0;34m(grid)\u001b[0m\n\u001b[1;32m     95\u001b[0m     \u001b[39mreturn\u001b[39;00m \u001b[39msum\u001b[39m(grid[i][j][\u001b[39m0\u001b[39m] \u001b[39m!=\u001b[39m \u001b[39m0\u001b[39m \u001b[39mfor\u001b[39;00m (i, j) \u001b[39min\u001b[39;00m all_grid \u001b[39mif\u001b[39;00m \u001b[39mlen\u001b[39m(grid[i][j]) \u001b[39m==\u001b[39m \u001b[39m1\u001b[39m)\n\u001b[1;32m     96\u001b[0m \u001b[39mexcept\u001b[39;00m (\u001b[39mIndexError\u001b[39;00m, \u001b[39mTypeError\u001b[39;00m):\n\u001b[1;32m     97\u001b[0m \u001b[39m# if isinstance(grid[0][0], list):\u001b[39;00m\n\u001b[1;32m     98\u001b[0m \u001b[39m#     return sum(grid[i][j][0] != 0 for (i, j) in all_grid if len(grid[i][j]) == 1)\u001b[39;00m\n\u001b[1;32m     99\u001b[0m \u001b[39m# else:\u001b[39;00m\n\u001b[0;32m--> 100\u001b[0m     \u001b[39mreturn\u001b[39;00m \u001b[39msum\u001b[39;49m(grid[i][j] \u001b[39m!=\u001b[39;49m \u001b[39m0\u001b[39;49m \u001b[39mfor\u001b[39;49;00m (i, j) \u001b[39min\u001b[39;49;00m all_grid)\n",
      "File \u001b[0;32m~/wc/sudoku/src/sudoku/__init__.py:100\u001b[0m, in \u001b[0;36m<genexpr>\u001b[0;34m(.0)\u001b[0m\n\u001b[1;32m     95\u001b[0m     \u001b[39mreturn\u001b[39;00m \u001b[39msum\u001b[39m(grid[i][j][\u001b[39m0\u001b[39m] \u001b[39m!=\u001b[39m \u001b[39m0\u001b[39m \u001b[39mfor\u001b[39;00m (i, j) \u001b[39min\u001b[39;00m all_grid \u001b[39mif\u001b[39;00m \u001b[39mlen\u001b[39m(grid[i][j]) \u001b[39m==\u001b[39m \u001b[39m1\u001b[39m)\n\u001b[1;32m     96\u001b[0m \u001b[39mexcept\u001b[39;00m (\u001b[39mIndexError\u001b[39;00m, \u001b[39mTypeError\u001b[39;00m):\n\u001b[1;32m     97\u001b[0m \u001b[39m# if isinstance(grid[0][0], list):\u001b[39;00m\n\u001b[1;32m     98\u001b[0m \u001b[39m#     return sum(grid[i][j][0] != 0 for (i, j) in all_grid if len(grid[i][j]) == 1)\u001b[39;00m\n\u001b[1;32m     99\u001b[0m \u001b[39m# else:\u001b[39;00m\n\u001b[0;32m--> 100\u001b[0m     \u001b[39mreturn\u001b[39;00m \u001b[39msum\u001b[39m(grid[i][j] \u001b[39m!=\u001b[39m \u001b[39m0\u001b[39m \u001b[39mfor\u001b[39;00m (i, j) \u001b[39min\u001b[39;00m all_grid)\n",
      "\u001b[0;31mIndexError\u001b[0m: string index out of range"
     ]
    }
   ],
   "source": [
    "import sudoku\n",
    "from sudoku import puzzles\n",
    "from sudoku.reader import get_matrix\n",
    "from sudoku.printer import display_grid, display_stats\n",
    "from sudoku.printer import display_file\n",
    "\n",
    "import copy\n",
    "\n",
    "p='''.........\n",
    "..4.6.8..\n",
    "39.874.1.\n",
    "8..2.6..3\n",
    "1.......2\n",
    "..3...4..\n",
    "9..438..7\n",
    ".3.795.6.\n",
    "..76..3..\n",
    "'''\n",
    "\n",
    "grid = p #get_matrix(puzzles.puzzles1[1][1])\n",
    "#grid = get_matrix(\"060000190002610004701000000000070010006083000540060003080027039000400078000000400\")\n",
    "display_stats(grid)\n",
    "display_file(grid, zero=\"0\", sep=\",\")"
   ]
  },
  {
   "cell_type": "code",
   "execution_count": 3,
   "metadata": {},
   "outputs": [
    {
     "name": "stdout",
     "output_type": "stream",
     "text": [
      "Filled in: 81, open: 0 (sum=81)\n",
      "Grid score: 243 (max=243)\n",
      "Values to eliminate: 0 (max=729)\n",
      "Range: [1, 2, 3, 4, 5, 6, 7, 8, 9]\n",
      "Completed: [1, 2, 3, 4, 5, 6, 7, 8, 9]\n",
      "1,6,3,8,7,2,4,5,9\n",
      "4,2,8,5,9,6,3,1,7\n",
      "7,5,9,1,3,4,6,2,8\n",
      "8,1,2,9,4,7,5,3,6\n",
      "9,4,5,3,6,1,8,7,2\n",
      "3,7,6,2,8,5,9,4,1\n",
      "5,3,7,6,1,9,2,8,4\n",
      "6,8,4,7,2,3,1,9,5\n",
      "2,9,1,4,5,8,7,6,3\n"
     ]
    }
   ],
   "source": [
    "from sudoku.solvers import csp\n",
    "\n",
    "problem = copy.deepcopy(grid)\n",
    "\n",
    "csp.solve(problem)\n",
    "\n",
    "display_stats(problem)\n",
    "display_file(problem, zero=\"0\", sep=\",\")\n"
   ]
  },
  {
   "cell_type": "code",
   "execution_count": 4,
   "metadata": {},
   "outputs": [
    {
     "name": "stdout",
     "output_type": "stream",
     "text": [
      "Filled in: 31, open: 50 (sum=81)\n",
      "Grid score: 93 (max=243)\n",
      "Values to eliminate: 121 (max=729)\n",
      "Range: [1, 2, 3, 4, 5, 6, 7, 8, 9]\n",
      "Completed: []\n",
      "1,0,0,0,7,0,0,0,9\n",
      "0,0,8,0,9,6,3,1,0\n",
      "0,5,9,0,0,0,0,2,0\n",
      "0,1,0,0,0,0,0,3,0\n",
      "9,4,0,0,6,0,0,7,2\n",
      "0,0,0,0,0,0,0,4,1\n",
      "0,3,0,0,0,0,2,8,0\n",
      "0,0,4,7,2,3,1,0,0\n",
      "2,0,0,0,5,0,0,0,3\n"
     ]
    }
   ],
   "source": [
    "from sudoku.solvers import heuristic\n",
    "from sudoku.printer import display_file, display_supergrid\n",
    "\n",
    "problem = copy.deepcopy(grid)\n",
    "# problem = heuristic.pencil_in_numbers(problem)\n",
    "heuristic.solve(problem)\n",
    "display_stats(problem)\n",
    "display_file(problem, zero=\"0\", sep=\",\")\n",
    "# print(sudoku.grid_score(problem))\n",
    "# print(sudoku.n_nonzero(problem))\n",
    "# heuristic.simple_elimination(problem)\n",
    "# print(sudoku.grid_score(problem))\n",
    "# print(sudoku.n_nonzero(problem))\n",
    "# heuristic.hidden_single(problem)\n",
    "# display_file(problem)\n",
    "# print(sudoku.grid_score(problem))\n",
    "# print(sudoku.n_nonzero(problem))\n",
    "# heuristic.csp(problem)\n",
    "# print(sudoku.grid_score(problem))\n",
    "# print(sudoku.n_nonzero(problem))"
   ]
  },
  {
   "cell_type": "code",
   "execution_count": null,
   "metadata": {},
   "outputs": [],
   "source": [
    "display_supergrid(problem)\n",
    "\n",
    "print(heuristic.cycles)\n",
    "# display_file(problem)\n",
    "# print(\"\")\n",
    "# sudoku.flatten(problem)\n",
    "# display_file(problem)"
   ]
  },
  {
   "cell_type": "code",
   "execution_count": null,
   "metadata": {},
   "outputs": [],
   "source": [
    "sudoku.unflatten(problem)\n",
    "heuristic.backtrack(problem)\n",
    "\n",
    "display_supergrid(problem)"
   ]
  }
 ],
 "metadata": {
  "kernelspec": {
   "display_name": "Python 3",
   "language": "python",
   "name": "python3"
  },
  "language_info": {
   "codemirror_mode": {
    "name": "ipython",
    "version": 3
   },
   "file_extension": ".py",
   "mimetype": "text/x-python",
   "name": "python",
   "nbconvert_exporter": "python",
   "pygments_lexer": "ipython3",
   "version": "3.11.6"
  },
  "orig_nbformat": 4
 },
 "nbformat": 4,
 "nbformat_minor": 2
}
