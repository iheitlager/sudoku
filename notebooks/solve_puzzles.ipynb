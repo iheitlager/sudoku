{
 "cells": [
  {
   "cell_type": "markdown",
   "metadata": {},
   "source": [
    "Trying to solve a few puzzles"
   ]
  },
  {
   "cell_type": "code",
   "execution_count": 13,
   "metadata": {},
   "outputs": [
    {
     "data": {
      "text/plain": [
       "24"
      ]
     },
     "execution_count": 13,
     "metadata": {},
     "output_type": "execute_result"
    }
   ],
   "source": [
    "from sudoku import puzzles, n_nonzero\n",
    "from sudoku.reader import get_matrix\n",
    "\n",
    "grid = get_matrix(puzzles.puzzles1[0][1])\n",
    "n_nonzero(grid)"
   ]
  },
  {
   "cell_type": "code",
   "execution_count": 14,
   "metadata": {},
   "outputs": [
    {
     "data": {
      "text/plain": [
       "[[1, 0, 0, 0, 0, 7, 0, 9, 0],\n",
       " [0, 3, 0, 0, 2, 0, 0, 0, 8],\n",
       " [0, 0, 9, 6, 0, 0, 5, 0, 0],\n",
       " [0, 0, 5, 3, 0, 0, 9, 0, 0],\n",
       " [0, 1, 0, 0, 8, 0, 0, 0, 2],\n",
       " [6, 0, 0, 0, 0, 4, 0, 0, 0],\n",
       " [3, 0, 0, 0, 0, 0, 0, 1, 0],\n",
       " [0, 4, 1, 0, 0, 0, 0, 0, 7],\n",
       " [0, 0, 7, 0, 0, 0, 3, 0, 0]]"
      ]
     },
     "execution_count": 14,
     "metadata": {},
     "output_type": "execute_result"
    }
   ],
   "source": [
    "grid"
   ]
  },
  {
   "cell_type": "code",
   "execution_count": 15,
   "metadata": {},
   "outputs": [
    {
     "data": {
      "text/plain": [
       "False"
      ]
     },
     "execution_count": 15,
     "metadata": {},
     "output_type": "execute_result"
    }
   ],
   "source": [
    "from sudoku.solvers import csp as solver\n",
    "\n",
    "problem = grid.copy()\n",
    "solver.solve(problem)"
   ]
  },
  {
   "cell_type": "code",
   "execution_count": 16,
   "metadata": {},
   "outputs": [
    {
     "name": "stdout",
     "output_type": "stream",
     "text": [
      "[1] [2, 5, 6, 8] [2, 4, 6, 8] | [4, 5, 8] [3, 4, 5] [7] | [2, 4, 6] [9] [3, 4, 6] \n",
      "[4, 5, 7] [3] [4, 6] | [1, 4, 5, 9] [2] [1, 5, 9] | [1, 4, 6, 7] [4, 6, 7] [8] \n",
      "[2, 4, 7, 8] [2, 7, 8] [9] | [6] [1, 3, 4] [1, 3, 8] | [5] [2, 3, 4, 7] [1, 3, 4] \n",
      "------+-------+------\n",
      "[2, 4, 7, 8] [2, 7, 8] [5] | [3] [1, 6, 7] [1, 2, 6] | [9] [4, 6, 7, 8] [1, 4, 6] \n",
      "[4, 7, 9] [1] [3, 4] | [5, 7, 9] [8] [5, 6, 9] | [4, 6, 7] [3, 4, 5, 6, 7] [2] \n",
      "[6] [2, 7, 8, 9] [2, 3, 8] | [1, 2, 5, 7, 9] [1, 5, 7, 9] [4] | [1, 7, 8] [3, 5, 7, 8] [1, 3, 5] \n",
      "------+-------+------\n",
      "[3] [2, 5, 6, 8, 9] [2, 6, 8] | [2, 4, 5, 7, 8, 9] [4, 5, 6, 7, 9] [2, 5, 6, 8, 9] | [2, 4, 6, 8] [1] [4, 5, 6, 9] \n",
      "[2, 5, 8, 9] [4] [1] | [2, 5, 8, 9] [3, 5, 6, 9] [2, 3, 5, 6, 8, 9] | [2, 6, 8] [2, 5, 6, 8] [7] \n",
      "[2, 5, 8, 9] [2, 5, 6, 8, 9] [7] | [1, 2, 4, 5, 8, 9] [1, 4, 5, 6, 9] [1, 2, 5, 6, 8, 9] | [3] [2, 4, 5, 6, 8] [4, 5, 6, 9] \n"
     ]
    }
   ],
   "source": [
    "from sudoku.printer import display_grid\n",
    "\n",
    "display_grid(problem)"
   ]
  }
 ],
 "metadata": {
  "kernelspec": {
   "display_name": "Python 3",
   "language": "python",
   "name": "python3"
  },
  "language_info": {
   "codemirror_mode": {
    "name": "ipython",
    "version": 3
   },
   "file_extension": ".py",
   "mimetype": "text/x-python",
   "name": "python",
   "nbconvert_exporter": "python",
   "pygments_lexer": "ipython3",
   "version": "3.11.6"
  },
  "orig_nbformat": 4
 },
 "nbformat": 4,
 "nbformat_minor": 2
}
