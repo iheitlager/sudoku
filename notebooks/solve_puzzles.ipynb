{
 "cells": [
  {
   "cell_type": "markdown",
   "metadata": {},
   "source": [
    "Trying to solve a few puzzles"
   ]
  },
  {
   "cell_type": "code",
   "execution_count": 1,
   "metadata": {},
   "outputs": [
    {
     "data": {
      "text/plain": [
       "27"
      ]
     },
     "execution_count": 1,
     "metadata": {},
     "output_type": "execute_result"
    }
   ],
   "source": [
    "from sudoku import puzzles, n_nonzero\n",
    "from sudoku.reader import get_matrix\n",
    "\n",
    "grid = get_matrix(puzzles.puzzles1[0][1])\n",
    "grid = get_matrix(\"060000190002610004701000000000070010006083000540060003080027039000400078000000400\")\n",
    "n_nonzero(grid)"
   ]
  },
  {
   "cell_type": "code",
   "execution_count": 2,
   "metadata": {},
   "outputs": [
    {
     "name": "stdout",
     "output_type": "stream",
     "text": [
      ".6....19.\n",
      "..261...4\n",
      "7.1......\n",
      "....7..1.\n",
      "..6.83...\n",
      "54..6...3\n",
      ".8..27.39\n",
      "...4...78\n",
      "......4..\n"
     ]
    }
   ],
   "source": [
    "from sudoku.printer import display_file\n",
    "\n",
    "display_file(grid)"
   ]
  },
  {
   "cell_type": "code",
   "execution_count": 3,
   "metadata": {},
   "outputs": [
    {
     "data": {
      "text/plain": [
       "True"
      ]
     },
     "execution_count": 3,
     "metadata": {},
     "output_type": "execute_result"
    }
   ],
   "source": [
    "from sudoku.solvers import csp as solver\n",
    "\n",
    "problem = grid.copy()\n",
    "solver.solve(problem)"
   ]
  },
  {
   "cell_type": "code",
   "execution_count": 4,
   "metadata": {},
   "outputs": [
    {
     "name": "stdout",
     "output_type": "stream",
     "text": [
      "4 6 8 | 7 3 5 | 1 9 2 \n",
      "3 5 2 | 6 1 9 | 7 8 4 \n",
      "7 9 1 | 8 4 2 | 3 5 6 \n",
      "------+-------+------\n",
      "8 3 9 | 2 7 4 | 6 1 5 \n",
      "1 2 6 | 5 8 3 | 9 4 7 \n",
      "5 4 7 | 9 6 1 | 8 2 3 \n",
      "------+-------+------\n",
      "6 8 4 | 1 2 7 | 5 3 9 \n",
      "9 1 3 | 4 5 6 | 2 7 8 \n",
      "2 7 5 | 3 9 8 | 4 6 1 \n"
     ]
    }
   ],
   "source": [
    "from sudoku.printer import display_grid\n",
    "\n",
    "display_grid(problem)"
   ]
  }
 ],
 "metadata": {
  "kernelspec": {
   "display_name": "Python 3",
   "language": "python",
   "name": "python3"
  },
  "language_info": {
   "codemirror_mode": {
    "name": "ipython",
    "version": 3
   },
   "file_extension": ".py",
   "mimetype": "text/x-python",
   "name": "python",
   "nbconvert_exporter": "python",
   "pygments_lexer": "ipython3",
   "version": "3.11.6"
  },
  "orig_nbformat": 4
 },
 "nbformat": 4,
 "nbformat_minor": 2
}
