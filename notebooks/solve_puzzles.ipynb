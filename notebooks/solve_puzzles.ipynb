{
 "cells": [
  {
   "cell_type": "markdown",
   "metadata": {},
   "source": [
    "Trying to solve a few puzzles"
   ]
  },
  {
   "cell_type": "code",
   "execution_count": 22,
   "metadata": {},
   "outputs": [
    {
     "name": "stdout",
     "output_type": "stream",
     "text": [
      "Filled in: 25, open: 56 (sum=81)\n",
      "Grid score: 75 (max=243)\n",
      "Values to eliminate: 504 (max=729)\n",
      "Range: [1, 2, 3, 4, 5, 6, 7, 8, 9]\n",
      "Completed: []\n",
      "100070009\n",
      "008096300\n",
      "050000020\n",
      "010000000\n",
      "940060072\n",
      "000000040\n",
      "030000080\n",
      "004720100\n",
      "200050003\n"
     ]
    }
   ],
   "source": [
    "import sudoku\n",
    "from sudoku import puzzles\n",
    "from sudoku.reader import get_matrix\n",
    "from sudoku.printer import display_grid, display_stats\n",
    "from sudoku.printer import display_file\n",
    "\n",
    "import copy\n",
    "\n",
    "p='''.........\n",
    "..4.6.8..\n",
    "39.874.1.\n",
    "8..2.6..3\n",
    "1.......2\n",
    "..3...4..\n",
    "9..438..7\n",
    ".3.795.6.\n",
    "..76..3..\n",
    "'''\n",
    "\n",
    "grid = get_matrix(p) \n",
    "grid = get_matrix(puzzles.puzzles1[1][1])\n",
    "#grid = get_matrix(\"060000190002610004701000000000070010006083000540060003080027039000400078000000400\")\n",
    "display_stats(grid)\n",
    "display_file(grid, zero=\"0\", sep=\"\")"
   ]
  },
  {
   "cell_type": "code",
   "execution_count": 23,
   "metadata": {},
   "outputs": [
    {
     "name": "stdout",
     "output_type": "stream",
     "text": [
      "Filled in: 81, open: 0 (sum=81)\n",
      "Grid score: 243 (max=243)\n",
      "Values to eliminate: 0 (max=729)\n",
      "Range: [1, 2, 3, 4, 5, 6, 7, 8, 9]\n",
      "Completed: [1, 2, 3, 4, 5, 6, 7, 8, 9]\n",
      "163872459\n",
      "428596317\n",
      "759134628\n",
      "812947536\n",
      "945361872\n",
      "376285941\n",
      "537619284\n",
      "684723195\n",
      "291458763\n"
     ]
    }
   ],
   "source": [
    "from sudoku.solvers import csp\n",
    "\n",
    "problem = copy.deepcopy(grid)\n",
    "\n",
    "csp.solve(problem)\n",
    "\n",
    "display_stats(problem)\n",
    "display_file(problem, zero=\"0\", sep=\"\")\n"
   ]
  },
  {
   "cell_type": "code",
   "execution_count": 24,
   "metadata": {},
   "outputs": [
    {
     "name": "stdout",
     "output_type": "stream",
     "text": [
      "Filled in: 25, open: 56 (sum=81)\n",
      "Grid score: 75 (max=243)\n",
      "Values to eliminate: 504 (max=729)\n",
      "Range: [1, 2, 3, 4, 5, 6, 7, 8, 9]\n",
      "Completed: []\n",
      "38 [3349, 279, 837, 0]\n",
      "Filled in: 31, open: 50 (sum=81)\n",
      "Grid score: 93 (max=243)\n",
      "Values to eliminate: 117 (max=729)\n",
      "Range: [1, 2, 3, 4, 5, 6, 7, 8, 9]\n",
      "Completed: []\n",
      "1...7...9\n",
      "..8.9631.\n",
      ".59....2.\n",
      ".1.....3.\n",
      "94..6..72\n",
      ".......41\n",
      ".3....28.\n",
      "..47231..\n",
      "2...5...3\n"
     ]
    }
   ],
   "source": [
    "from sudoku.solvers import heuristic\n",
    "from sudoku.printer import display_file, display_supergrid\n",
    "\n",
    "problem = copy.deepcopy(grid)\n",
    "display_stats(problem)\n",
    "#problem = heuristic.pencil_in_numbers(problem)\n",
    "heuristic.solve(problem)\n",
    "print(heuristic.cycles, heuristic.counts)\n",
    "\n",
    "display_stats(problem)\n",
    "display_file(problem)"
   ]
  },
  {
   "cell_type": "code",
   "execution_count": 32,
   "metadata": {},
   "outputs": [
    {
     "name": "stdout",
     "output_type": "stream",
     "text": [
      "Filled in: 25, open: 56 (sum=81)\n",
      "Grid score: 75 (max=243)\n",
      "Values to eliminate: 504 (max=729)\n",
      "Range: [1, 2, 3, 4, 5, 6, 7, 8, 9]\n",
      "Completed: []\n",
      "289\n",
      "17\n",
      "21\n",
      "3\n",
      "0\n",
      "0\n",
      "1\n",
      "0\n",
      "0\n",
      "0\n",
      "Filled in: 31, open: 50 (sum=81)\n",
      "Grid score: 93 (max=243)\n",
      "Values to eliminate: 117 (max=729)\n",
      "Range: [1, 2, 3, 4, 5, 6, 7, 8, 9]\n",
      "Completed: []\n",
      "1...7...9\n",
      "..8.9631.\n",
      ".59....2.\n",
      ".1.....3.\n",
      "94..6..72\n",
      ".......41\n",
      ".3....28.\n",
      "..47231..\n",
      "2...5...3\n"
     ]
    }
   ],
   "source": [
    "problem = copy.deepcopy(grid)\n",
    "display_stats(problem)\n",
    "problem = heuristic.pencil_in_numbers(problem)\n",
    "print(heuristic.simple_elimination(problem))\n",
    "print(heuristic.hidden_single(problem))\n",
    "print(heuristic.pointing_pairs(problem))\n",
    "print(heuristic.csp(problem))\n",
    "print(heuristic.simple_elimination(problem))\n",
    "print(heuristic.hidden_single(problem))\n",
    "print(heuristic.pointing_pairs(problem))\n",
    "print(heuristic.simple_elimination(problem))\n",
    "print(heuristic.hidden_single(problem))\n",
    "print(heuristic.pointing_pairs(problem))\n",
    "display_stats(problem)\n",
    "display_file(problem)"
   ]
  }
 ],
 "metadata": {
  "kernelspec": {
   "display_name": "Python 3",
   "language": "python",
   "name": "python3"
  },
  "language_info": {
   "codemirror_mode": {
    "name": "ipython",
    "version": 3
   },
   "file_extension": ".py",
   "mimetype": "text/x-python",
   "name": "python",
   "nbconvert_exporter": "python",
   "pygments_lexer": "ipython3",
   "version": "3.11.6"
  },
  "orig_nbformat": 4
 },
 "nbformat": 4,
 "nbformat_minor": 2
}
