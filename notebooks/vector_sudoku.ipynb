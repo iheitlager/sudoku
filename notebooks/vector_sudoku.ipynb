{
 "cells": [
  {
   "cell_type": "markdown",
   "metadata": {},
   "source": [
    "This notebook provides a simple sudoku solver. Let's start with a simple 4 (\\*\\*\\*\\*) star sudoku"
   ]
  },
  {
   "cell_type": "code",
   "execution_count": 1,
   "metadata": {},
   "outputs": [],
   "source": [
    "# Parool Dinsdag 19 sept ****\n",
    "sudoku_grid = [\n",
    "    [0, 6, 0, 0, 0, 0, 1, 9, 0],\n",
    "    [0, 0, 2, 6, 1, 0, 0, 0, 4],\n",
    "    [7, 0, 1, 0, 0, 0, 0, 0, 0],\n",
    "    [0, 0, 0, 0, 7, 0, 0, 1, 0],\n",
    "    [0, 0, 6, 0, 8, 3, 0, 0, 0],\n",
    "    [5, 4, 0, 0, 6, 0, 0, 0, 3],\n",
    "    [0, 8, 0, 0, 2, 7, 0, 3, 9],\n",
    "    [0, 0, 0, 4, 0, 0, 0, 7, 8],\n",
    "    [0, 0, 0, 0, 0, 0, 4, 0, 0]\n",
    "]"
   ]
  },
  {
   "cell_type": "markdown",
   "metadata": {},
   "source": [
    "And let's show the grid by importing a simple pretty printer. "
   ]
  },
  {
   "cell_type": "code",
   "execution_count": 2,
   "metadata": {},
   "outputs": [],
   "source": [
    "from sudoku.solvers import heuristic\n",
    "\n",
    "grid = heuristic.pencil_in_numbers(sudoku_grid)"
   ]
  },
  {
   "cell_type": "code",
   "execution_count": 3,
   "metadata": {},
   "outputs": [
    {
     "data": {
      "text/plain": [
       "292"
      ]
     },
     "execution_count": 3,
     "metadata": {},
     "output_type": "execute_result"
    }
   ],
   "source": [
    "heuristic.simple_elimination(grid)"
   ]
  },
  {
   "cell_type": "code",
   "execution_count": 4,
   "metadata": {},
   "outputs": [
    {
     "data": {
      "text/plain": [
       "0"
      ]
     },
     "execution_count": 4,
     "metadata": {},
     "output_type": "execute_result"
    }
   ],
   "source": [
    "heuristic.simple_elimination(grid)"
   ]
  },
  {
   "cell_type": "code",
   "execution_count": 5,
   "metadata": {},
   "outputs": [
    {
     "ename": "TypeError",
     "evalue": "list indices must be integers or slices, not tuple",
     "output_type": "error",
     "traceback": [
      "\u001b[0;31m---------------------------------------------------------------------------\u001b[0m",
      "\u001b[0;31mTypeError\u001b[0m                                 Traceback (most recent call last)",
      "Cell \u001b[0;32mIn[5], line 1\u001b[0m\n\u001b[0;32m----> 1\u001b[0m heuristic\u001b[39m.\u001b[39;49mhidden_single(grid)\n",
      "File \u001b[0;32m~/wc/sudoku/src/sudoku/solvers/heuristic.py:66\u001b[0m, in \u001b[0;36mhidden_single\u001b[0;34m(sudoku)\u001b[0m\n\u001b[1;32m     64\u001b[0m \u001b[39mfor\u001b[39;00m number \u001b[39min\u001b[39;00m \u001b[39mrange\u001b[39m(\u001b[39m1\u001b[39m, \u001b[39m10\u001b[39m):\n\u001b[1;32m     65\u001b[0m     \u001b[39mfor\u001b[39;00m group \u001b[39min\u001b[39;00m all_houses:\n\u001b[0;32m---> 66\u001b[0m         count \u001b[39m+\u001b[39m\u001b[39m=\u001b[39m find_only_number_in_group(group, number)\n\u001b[1;32m     67\u001b[0m \u001b[39mreturn\u001b[39;00m count\n",
      "File \u001b[0;32m~/wc/sudoku/src/sudoku/solvers/heuristic.py:58\u001b[0m, in \u001b[0;36mhidden_single.<locals>.find_only_number_in_group\u001b[0;34m(group, number)\u001b[0m\n\u001b[1;32m     55\u001b[0m             count \u001b[39m+\u001b[39m\u001b[39m=\u001b[39m \u001b[39m1\u001b[39m\n\u001b[1;32m     56\u001b[0m             i2, j2 \u001b[39m=\u001b[39m (i, j)\n\u001b[1;32m     57\u001b[0m \u001b[39mif\u001b[39;00m count \u001b[39m==\u001b[39m \u001b[39m1\u001b[39m \u001b[39mand\u001b[39;00m (i2, j2) \u001b[39m!=\u001b[39m (\u001b[39m-\u001b[39m\u001b[39m1\u001b[39m, \u001b[39m-\u001b[39m\u001b[39m1\u001b[39m) \\\n\u001b[0;32m---> 58\u001b[0m    \u001b[39mand\u001b[39;00m \u001b[39mlen\u001b[39m(sudoku[i2, j2]) \u001b[39m>\u001b[39m \u001b[39m1\u001b[39m:\n\u001b[1;32m     59\u001b[0m     removed \u001b[39m=\u001b[39m \u001b[39mlen\u001b[39m(sudoku[i2, j2]) \u001b[39m-\u001b[39m \u001b[39m1\u001b[39m\n\u001b[1;32m     60\u001b[0m     sudoku[i2][j2] \u001b[39m=\u001b[39m [number]\n",
      "\u001b[0;31mTypeError\u001b[0m: list indices must be integers or slices, not tuple"
     ]
    }
   ],
   "source": [
    "heuristic.hidden_single(grid)"
   ]
  },
  {
   "cell_type": "code",
   "execution_count": null,
   "metadata": {},
   "outputs": [],
   "source": [
    "#heuristic.hidden_single(grid)"
   ]
  },
  {
   "cell_type": "code",
   "execution_count": null,
   "metadata": {},
   "outputs": [],
   "source": [
    "grid"
   ]
  },
  {
   "cell_type": "code",
   "execution_count": null,
   "metadata": {},
   "outputs": [],
   "source": [
    "from sudoku import is_solved\n",
    "is_solved(grid)"
   ]
  }
 ],
 "metadata": {
  "kernelspec": {
   "display_name": "Python 3",
   "language": "python",
   "name": "python3"
  },
  "language_info": {
   "codemirror_mode": {
    "name": "ipython",
    "version": 3
   },
   "file_extension": ".py",
   "mimetype": "text/x-python",
   "name": "python",
   "nbconvert_exporter": "python",
   "pygments_lexer": "ipython3",
   "version": "3.11.6"
  },
  "orig_nbformat": 4
 },
 "nbformat": 4,
 "nbformat_minor": 2
}
