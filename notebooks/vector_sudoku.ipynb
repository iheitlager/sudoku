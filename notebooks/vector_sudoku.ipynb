{
 "cells": [
  {
   "cell_type": "markdown",
   "metadata": {},
   "source": [
    "This notebook provides a simple sudoku solver. Let's start with a simple 4 (\\*\\*\\*\\*) star sudoku"
   ]
  },
  {
   "cell_type": "code",
   "execution_count": 1,
   "metadata": {},
   "outputs": [],
   "source": [
    "# Parool Dinsdag 19 sept ****\n",
    "sudoku_grid = [\n",
    "    [0, 6, 0, 0, 0, 0, 1, 9, 0],\n",
    "    [0, 0, 2, 6, 1, 0, 0, 0, 4],\n",
    "    [7, 0, 1, 0, 0, 0, 0, 0, 0],\n",
    "    [0, 0, 0, 0, 7, 0, 0, 1, 0],\n",
    "    [0, 0, 6, 0, 8, 3, 0, 0, 0],\n",
    "    [5, 4, 0, 0, 6, 0, 0, 0, 3],\n",
    "    [0, 8, 0, 0, 2, 7, 0, 3, 9],\n",
    "    [0, 0, 0, 4, 0, 0, 0, 7, 8],\n",
    "    [0, 0, 0, 0, 0, 0, 4, 0, 0]\n",
    "]"
   ]
  },
  {
   "cell_type": "markdown",
   "metadata": {},
   "source": [
    "And let's show the grid by importing a simple pretty printer. "
   ]
  },
  {
   "cell_type": "code",
   "execution_count": 2,
   "metadata": {},
   "outputs": [],
   "source": [
    "from sudoku.solvers import heuristic\n",
    "\n",
    "grid = heuristic.pencil_in_numbers(sudoku_grid)"
   ]
  },
  {
   "cell_type": "code",
   "execution_count": 3,
   "metadata": {},
   "outputs": [
    {
     "data": {
      "text/plain": [
       "292"
      ]
     },
     "execution_count": 3,
     "metadata": {},
     "output_type": "execute_result"
    }
   ],
   "source": [
    "heuristic.simple_elimination(grid)"
   ]
  },
  {
   "cell_type": "code",
   "execution_count": 4,
   "metadata": {},
   "outputs": [
    {
     "data": {
      "text/plain": [
       "0"
      ]
     },
     "execution_count": 4,
     "metadata": {},
     "output_type": "execute_result"
    }
   ],
   "source": [
    "heuristic.simple_elimination(grid)"
   ]
  },
  {
   "cell_type": "code",
   "execution_count": 5,
   "metadata": {},
   "outputs": [
    {
     "data": {
      "text/plain": [
       "15"
      ]
     },
     "execution_count": 5,
     "metadata": {},
     "output_type": "execute_result"
    }
   ],
   "source": [
    "heuristic.hidden_single(grid)"
   ]
  },
  {
   "cell_type": "code",
   "execution_count": 6,
   "metadata": {},
   "outputs": [],
   "source": [
    "#heuristic.hidden_single(grid)"
   ]
  },
  {
   "cell_type": "code",
   "execution_count": 7,
   "metadata": {},
   "outputs": [
    {
     "data": {
      "text/plain": [
       "[[[3, 4, 8],\n",
       "  [6],\n",
       "  [3, 4, 5, 8],\n",
       "  [7],\n",
       "  [3, 4, 5],\n",
       "  [2, 4, 5, 8],\n",
       "  [1],\n",
       "  [9],\n",
       "  [2, 5, 7]],\n",
       " [[3, 8, 9], [3, 5, 9], [2], [6], [1], [5, 8, 9], [7], [5, 8], [4]],\n",
       " [[7],\n",
       "  [3, 5, 9],\n",
       "  [1],\n",
       "  [2, 3, 5, 8, 9],\n",
       "  [3, 4, 5, 9],\n",
       "  [2, 4, 5, 8, 9],\n",
       "  [2, 3, 5, 6, 8],\n",
       "  [2, 5, 6, 8],\n",
       "  [2, 5, 6]],\n",
       " [[2, 3, 8, 9],\n",
       "  [2, 3, 9],\n",
       "  [3, 8, 9],\n",
       "  [2, 5, 9],\n",
       "  [7],\n",
       "  [4],\n",
       "  [2, 5, 6, 8, 9],\n",
       "  [1],\n",
       "  [2, 5, 6]],\n",
       " [[1, 2, 9],\n",
       "  [1, 2, 7, 9],\n",
       "  [6],\n",
       "  [1, 2, 5, 9],\n",
       "  [8],\n",
       "  [3],\n",
       "  [2, 5, 7, 9],\n",
       "  [4],\n",
       "  [2, 5, 7]],\n",
       " [[5], [4], [7, 8, 9], [1, 2, 9], [6], [1, 2, 9], [2, 7, 8, 9], [2, 8], [3]],\n",
       " [[1, 4, 6], [8], [4, 5], [1, 5], [2], [7], [5, 6], [3], [9]],\n",
       " [[1, 2, 3, 6, 9],\n",
       "  [1, 2, 3, 5, 9],\n",
       "  [3, 5, 9],\n",
       "  [4],\n",
       "  [3, 5, 9],\n",
       "  [1, 5, 6, 9],\n",
       "  [2, 5, 6],\n",
       "  [7],\n",
       "  [8]],\n",
       " [[1, 2, 3, 6, 9],\n",
       "  [1, 2, 3, 5, 7, 9],\n",
       "  [3, 5, 7, 9],\n",
       "  [1, 3, 5, 8, 9],\n",
       "  [3, 5, 9],\n",
       "  [1, 5, 6, 8, 9],\n",
       "  [4],\n",
       "  [2, 5, 6],\n",
       "  [1]]]"
      ]
     },
     "execution_count": 7,
     "metadata": {},
     "output_type": "execute_result"
    }
   ],
   "source": [
    "grid"
   ]
  },
  {
   "cell_type": "code",
   "execution_count": 8,
   "metadata": {},
   "outputs": [
    {
     "data": {
      "text/plain": [
       "False"
      ]
     },
     "execution_count": 8,
     "metadata": {},
     "output_type": "execute_result"
    }
   ],
   "source": [
    "from sudoku import is_solved\n",
    "is_solved(grid)"
   ]
  }
 ],
 "metadata": {
  "kernelspec": {
   "display_name": "Python 3",
   "language": "python",
   "name": "python3"
  },
  "language_info": {
   "codemirror_mode": {
    "name": "ipython",
    "version": 3
   },
   "file_extension": ".py",
   "mimetype": "text/x-python",
   "name": "python",
   "nbconvert_exporter": "python",
   "pygments_lexer": "ipython3",
   "version": "3.11.6"
  },
  "orig_nbformat": 4
 },
 "nbformat": 4,
 "nbformat_minor": 2
}
