{
 "cells": [
  {
   "cell_type": "markdown",
   "metadata": {},
   "source": [
    "This notebook provides a simple sudoku solver. Let's start with a simple 4 (\\*\\*\\*\\*) star sudoku"
   ]
  },
  {
   "cell_type": "code",
   "execution_count": 5,
   "metadata": {},
   "outputs": [],
   "source": [
    "# Parool Dinsdag 19 sept ****\n",
    "sudoku_grid = [\n",
    "    [0, 6, 0, 0, 0, 0, 1, 9, 0],\n",
    "    [0, 0, 2, 6, 1, 0, 0, 0, 4],\n",
    "    [7, 0, 1, 0, 0, 0, 0, 0, 0],\n",
    "    [0, 0, 0, 0, 7, 0, 0, 1, 0],\n",
    "    [0, 0, 6, 0, 8, 3, 0, 0, 0],\n",
    "    [5, 4, 0, 0, 6, 0, 0, 0, 3],\n",
    "    [0, 8, 0, 0, 2, 7, 0, 3, 9],\n",
    "    [0, 0, 0, 4, 0, 0, 0, 7, 8],\n",
    "    [0, 0, 0, 0, 0, 0, 4, 0, 0]\n",
    "]"
   ]
  },
  {
   "cell_type": "markdown",
   "metadata": {},
   "source": [
    "And let's show the grid by importing a simple pretty printer. "
   ]
  },
  {
   "cell_type": "code",
   "execution_count": 6,
   "metadata": {},
   "outputs": [
    {
     "name": "stdout",
     "output_type": "stream",
     "text": [
      "0 0 0 | 0 0 0 | 0 9 2 \n",
      "0 0 0 | 1 0 0 | 0 4 0 \n",
      "9 0 0 | 2 4 0 | 0 0 7 \n",
      "------+-------+------\n",
      "8 0 0 | 7 0 0 | 1 5 0 \n",
      "6 5 0 | 9 0 1 | 0 7 8 \n",
      "0 7 4 | 0 0 8 | 0 0 6 \n",
      "------+-------+------\n",
      "3 0 0 | 0 9 5 | 0 0 1 \n",
      "0 8 0 | 0 0 6 | 0 0 0 \n",
      "7 9 0 | 0 0 0 | 0 0 0 \n"
     ]
    }
   ],
   "source": [
    "from sudoku.printer import display_grid\n",
    "\n",
    "display_grid(sudoku_grid)"
   ]
  },
  {
   "cell_type": "markdown",
   "metadata": {},
   "source": [
    "Let's import a simple solver and solve this sudoku by backtracking"
   ]
  },
  {
   "cell_type": "code",
   "execution_count": 8,
   "metadata": {},
   "outputs": [
    {
     "name": "stdout",
     "output_type": "stream",
     "text": [
      "4 1 8 | 6 5 7 | 3 9 2 \n",
      "2 3 7 | 1 8 9 | 6 4 5 \n",
      "9 6 5 | 2 4 3 | 8 1 7 \n",
      "------+-------+------\n",
      "8 2 9 | 7 6 4 | 1 5 3 \n",
      "6 5 3 | 9 2 1 | 4 7 8 \n",
      "1 7 4 | 5 3 8 | 9 2 6 \n",
      "------+-------+------\n",
      "3 4 2 | 8 9 5 | 7 6 1 \n",
      "5 8 1 | 4 7 6 | 2 3 9 \n",
      "7 9 6 | 3 1 2 | 5 8 4 \n",
      "Using 11016 iterations\n"
     ]
    }
   ],
   "source": [
    "from sudoku.solvers import backtracking\n",
    "\n",
    "backtracking.solve(sudoku_grid)\n",
    "display_grid(sudoku_grid)\n",
    "print(\"Using %d iterations\" % backtracking.iterations)"
   ]
  },
  {
   "cell_type": "markdown",
   "metadata": {},
   "source": [
    "or we can print this a a python readable matrix list"
   ]
  },
  {
   "cell_type": "code",
   "execution_count": 4,
   "metadata": {},
   "outputs": [
    {
     "name": "stdout",
     "output_type": "stream",
     "text": [
      "sudoku_grid = [\n",
      "    [4, 1, 8, 6, 5, 7, 3, 9, 2],\n",
      "    [2, 3, 7, 1, 8, 9, 6, 4, 5],\n",
      "    [9, 6, 5, 2, 4, 3, 8, 1, 7],\n",
      "    [8, 2, 9, 7, 6, 4, 1, 5, 3],\n",
      "    [6, 5, 3, 9, 2, 1, 4, 7, 8],\n",
      "    [1, 7, 4, 5, 3, 8, 9, 2, 6],\n",
      "    [3, 4, 2, 8, 9, 5, 7, 6, 1],\n",
      "    [5, 8, 1, 4, 7, 6, 2, 3, 9],\n",
      "    [7, 9, 6, 3, 1, 2, 5, 8, 4]\n",
      "]\n"
     ]
    }
   ],
   "source": [
    "from sudoku.printer import display_pylist\n",
    "\n",
    "display_pylist(sudoku_grid)"
   ]
  },
  {
   "cell_type": "markdown",
   "metadata": {},
   "source": [
    "That is it, we have solved the sudoku by recursion and backtracking using a predefined solver in our library"
   ]
  }
 ],
 "metadata": {
  "kernelspec": {
   "display_name": "Python 3",
   "language": "python",
   "name": "python3"
  },
  "language_info": {
   "codemirror_mode": {
    "name": "ipython",
    "version": 3
   },
   "file_extension": ".py",
   "mimetype": "text/x-python",
   "name": "python",
   "nbconvert_exporter": "python",
   "pygments_lexer": "ipython3",
   "version": "3.11.6"
  },
  "orig_nbformat": 4
 },
 "nbformat": 4,
 "nbformat_minor": 2
}
