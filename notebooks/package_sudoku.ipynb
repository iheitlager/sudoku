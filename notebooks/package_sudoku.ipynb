{
 "cells": [
  {
   "cell_type": "markdown",
   "metadata": {},
   "source": [
    "This notebook provides a simple sudoku solver. Let's start with a simple 4 (\\*\\*\\*\\*) star sudoku"
   ]
  },
  {
   "cell_type": "code",
   "execution_count": 1,
   "metadata": {},
   "outputs": [],
   "source": [
    "# Parool Dinsdag 19 sept ****\n",
    "sudoku_grid = [\n",
    "    [0, 6, 0, 0, 0, 0, 1, 9, 0],\n",
    "    [0, 0, 2, 6, 1, 0, 0, 0, 4],\n",
    "    [7, 0, 1, 0, 0, 0, 0, 0, 0],\n",
    "    [0, 0, 0, 0, 7, 0, 0, 1, 0],\n",
    "    [0, 0, 6, 0, 8, 3, 0, 0, 0],\n",
    "    [5, 4, 0, 0, 6, 0, 0, 0, 3],\n",
    "    [0, 8, 0, 0, 2, 7, 0, 3, 9],\n",
    "    [0, 0, 0, 4, 0, 0, 0, 7, 8],\n",
    "    [0, 0, 0, 0, 0, 0, 4, 0, 0]\n",
    "]"
   ]
  },
  {
   "cell_type": "markdown",
   "metadata": {},
   "source": [
    "And let's show the grid by importing a simple pretty printer. "
   ]
  },
  {
   "cell_type": "code",
   "execution_count": 2,
   "metadata": {},
   "outputs": [
    {
     "name": "stdout",
     "output_type": "stream",
     "text": [
      "0 6 0 | 0 0 0 | 1 9 0 \n",
      "0 0 2 | 6 1 0 | 0 0 4 \n",
      "7 0 1 | 0 0 0 | 0 0 0 \n",
      "------+-------+------\n",
      "0 0 0 | 0 7 0 | 0 1 0 \n",
      "0 0 6 | 0 8 3 | 0 0 0 \n",
      "5 4 0 | 0 6 0 | 0 0 3 \n",
      "------+-------+------\n",
      "0 8 0 | 0 2 7 | 0 3 9 \n",
      "0 0 0 | 4 0 0 | 0 7 8 \n",
      "0 0 0 | 0 0 0 | 4 0 0 \n"
     ]
    }
   ],
   "source": [
    "from sudoku.printer import display_grid\n",
    "\n",
    "display_grid(sudoku_grid)"
   ]
  },
  {
   "cell_type": "markdown",
   "metadata": {},
   "source": [
    "Let's import a simple solver and solve this sudoku by backtracking"
   ]
  },
  {
   "cell_type": "code",
   "execution_count": 3,
   "metadata": {},
   "outputs": [
    {
     "name": "stdout",
     "output_type": "stream",
     "text": [
      "4 6 8 | 7 3 5 | 1 9 2 \n",
      "3 5 2 | 6 1 9 | 7 8 4 \n",
      "7 9 1 | 8 4 2 | 3 5 6 \n",
      "------+-------+------\n",
      "8 3 9 | 2 7 4 | 6 1 5 \n",
      "1 2 6 | 5 8 3 | 9 4 7 \n",
      "5 4 7 | 9 6 1 | 8 2 3 \n",
      "------+-------+------\n",
      "6 8 4 | 1 2 7 | 5 3 9 \n",
      "9 1 3 | 4 5 6 | 2 7 8 \n",
      "2 7 5 | 3 9 8 | 4 6 1 \n",
      "Using 2522 iterations\n"
     ]
    }
   ],
   "source": [
    "from sudoku.solvers import backtracking\n",
    "\n",
    "backtracking.solve(sudoku_grid)\n",
    "display_grid(sudoku_grid)\n",
    "print(\"Using %d iterations\" % backtracking.iterations)"
   ]
  },
  {
   "cell_type": "markdown",
   "metadata": {},
   "source": [
    "That is it, we have solved the sudoku by recursion and backtracking using a predefined solver in our library"
   ]
  }
 ],
 "metadata": {
  "kernelspec": {
   "display_name": "Python 3",
   "language": "python",
   "name": "python3"
  },
  "language_info": {
   "codemirror_mode": {
    "name": "ipython",
    "version": 3
   },
   "file_extension": ".py",
   "mimetype": "text/x-python",
   "name": "python",
   "nbconvert_exporter": "python",
   "pygments_lexer": "ipython3",
   "version": "3.11.6"
  },
  "orig_nbformat": 4
 },
 "nbformat": 4,
 "nbformat_minor": 2
}
